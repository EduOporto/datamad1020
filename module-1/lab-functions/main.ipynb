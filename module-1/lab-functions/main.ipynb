{
 "cells": [
  {
   "cell_type": "markdown",
   "metadata": {},
   "source": [
    "# Functions"
   ]
  },
  {
   "cell_type": "markdown",
   "metadata": {},
   "source": [
    "On this lab we will put to practice some of the concepts we have learned on this past few days.\n",
    "\n",
    "`NOTE: On this lab you should try to write all the functions yourself using only the most basic of python syntax and without functions such as len, count, sum, max, min, in, etc. Give it a try. 🧑🏻‍💻👩🏻‍💻`\n",
    "\n",
    "The cell after each exercise contains a few tests to check if your function works as expected."
   ]
  },
  {
   "cell_type": "code",
   "execution_count": 1,
   "metadata": {},
   "outputs": [],
   "source": [
    "from mod.testing import *\n",
    "import unittest"
   ]
  },
  {
   "cell_type": "markdown",
   "metadata": {},
   "source": [
    "## 1. Write a function that returns the greater of two numbers"
   ]
  },
  {
   "cell_type": "code",
   "execution_count": 2,
   "metadata": {},
   "outputs": [],
   "source": [
    "def greater(a,b):\n",
    "    if a > b:\n",
    "        return a\n",
    "    return b"
   ]
  },
  {
   "cell_type": "code",
   "execution_count": 3,
   "metadata": {},
   "outputs": [
    {
     "output_type": "stream",
     "name": "stderr",
     "text": [
      "....................................................................................................\n",
      "----------------------------------------------------------------------\n",
      "Ran 100 tests in 0.272s\n",
      "\n",
      "OK\n"
     ]
    }
   ],
   "source": [
    "# This will test your function \n",
    "test_greater(greater)"
   ]
  },
  {
   "cell_type": "markdown",
   "metadata": {},
   "source": [
    "## 2. Now write a function that returns the largest element on a list"
   ]
  },
  {
   "cell_type": "code",
   "execution_count": 4,
   "metadata": {},
   "outputs": [],
   "source": [
    "def greatest(arr):\n",
    "    act = arr[0]\n",
    "    for e in arr:\n",
    "        if e > act:\n",
    "            act = e\n",
    "    return act"
   ]
  },
  {
   "cell_type": "code",
   "execution_count": 5,
   "metadata": {},
   "outputs": [
    {
     "output_type": "stream",
     "name": "stderr",
     "text": [
      "....................................................................................................\n",
      "----------------------------------------------------------------------\n",
      "Ran 100 tests in 0.259s\n",
      "\n",
      "OK\n"
     ]
    }
   ],
   "source": [
    "# This will test your function \n",
    "test_greatest(greatest)"
   ]
  },
  {
   "cell_type": "markdown",
   "metadata": {},
   "source": [
    "## 3. Write a function that sums all the elements on a list"
   ]
  },
  {
   "cell_type": "code",
   "execution_count": 6,
   "metadata": {},
   "outputs": [],
   "source": [
    "def sum_all(arr):\n",
    "    acc = 0\n",
    "    for e in arr:\n",
    "        acc += e\n",
    "    return acc"
   ]
  },
  {
   "cell_type": "code",
   "execution_count": 7,
   "metadata": {
    "tags": []
   },
   "outputs": [
    {
     "output_type": "stream",
     "name": "stderr",
     "text": [
      "....................................................................................................\n",
      "----------------------------------------------------------------------\n",
      "Ran 100 tests in 0.263s\n",
      "\n",
      "OK\n"
     ]
    }
   ],
   "source": [
    "# This will test your function \n",
    "test_sum(sum_all)"
   ]
  },
  {
   "cell_type": "markdown",
   "metadata": {},
   "source": [
    "## 4. Write another function that multiplies all the elements on a list"
   ]
  },
  {
   "cell_type": "code",
   "execution_count": 8,
   "metadata": {},
   "outputs": [],
   "source": [
    "def mult_all(arr):\n",
    "    acc = 1\n",
    "    for e in arr:\n",
    "        acc *= e\n",
    "    return acc"
   ]
  },
  {
   "cell_type": "code",
   "execution_count": 9,
   "metadata": {},
   "outputs": [
    {
     "output_type": "stream",
     "name": "stderr",
     "text": [
      "....................................................................................................\n",
      "----------------------------------------------------------------------\n",
      "Ran 100 tests in 0.222s\n",
      "\n",
      "OK\n"
     ]
    }
   ],
   "source": [
    "# This will test your function \n",
    "test_mult(mult_all)"
   ]
  },
  {
   "cell_type": "markdown",
   "metadata": {},
   "source": [
    "## 5. Now combine those two ideas and write a function that receives a list and either \"+\" or \"*\" and outputs acordingly"
   ]
  },
  {
   "cell_type": "code",
   "execution_count": 10,
   "metadata": {},
   "outputs": [],
   "source": [
    "def oper_all(arr, oper):\n",
    "    if oper == '+':\n",
    "        num = 0\n",
    "        for e in arr:\n",
    "            num += e\n",
    "    if oper == '*':\n",
    "        num = 1\n",
    "        for e in arr:\n",
    "            num *= e\n",
    "    return num"
   ]
  },
  {
   "cell_type": "code",
   "execution_count": 11,
   "metadata": {
    "tags": []
   },
   "outputs": [
    {
     "output_type": "stream",
     "name": "stderr",
     "text": [
      "....................................................................................................\n",
      "----------------------------------------------------------------------\n",
      "Ran 100 tests in 0.325s\n",
      "\n",
      "OK\n"
     ]
    }
   ],
   "source": [
    "# This will test your function \n",
    "test_operations(oper_all)"
   ]
  },
  {
   "cell_type": "markdown",
   "metadata": {},
   "source": [
    "## 6. Write a function that returns the factorial of a number."
   ]
  },
  {
   "cell_type": "code",
   "execution_count": 10,
   "metadata": {},
   "outputs": [],
   "source": [
    "def factorial(n):\n",
    "    factorial_list = [n]\n",
    "    for e in factorial_list:\n",
    "        if e > 1:\n",
    "            factorial_list.append(initial[-1]-1)\n",
    "    \n",
    "    acc = 1\n",
    "    for e in factorial_list:\n",
    "        acc *= e\n",
    "    return acc"
   ]
  },
  {
   "cell_type": "code",
   "execution_count": 11,
   "metadata": {
    "tags": [
     "outputPrepend"
    ]
   },
   "outputs": [
    {
     "output_type": "stream",
     "name": "stderr",
     "text": [
      "self.output, f\"Should be {self.output}\")\n",
      "AssertionError: 0 != 47536433370128417484213820698940494664381[77 chars]00000 : Should be 475364333701284174842138206989404946643813294067993328617160934076743994734899148613007131808479167119360000000000000000000\n",
      "\n",
      "======================================================================\n",
      "FAIL: runTest (mod.testing.test_factorial.<locals>.TestKnown)\n",
      "----------------------------------------------------------------------\n",
      "Traceback (most recent call last):\n",
      "  File \"/Users/eduardooportoalonso/Documents/Cursos/Ironhack/datamad1020/datamad1020/module-1/lab-functions/mod/testing.py\", line 96, in runTest\n",
      "    self.assertEqual(fn(self.input), self.output, f\"Should be {self.output}\")\n",
      "AssertionError: 0 != 295232799039604140847618609643520000000 : Should be 295232799039604140847618609643520000000\n",
      "\n",
      "======================================================================\n",
      "FAIL: runTest (mod.testing.test_factorial.<locals>.TestKnown)\n",
      "----------------------------------------------------------------------\n",
      "Traceback (most recent call last):\n",
      "  File \"/Users/eduardooportoalonso/Documents/Cursos/Ironhack/datamad1020/datamad1020/module-1/lab-functions/mod/testing.py\", line 96, in runTest\n",
      "    self.assertEqual(fn(self.input), self.output, f\"Should be {self.output}\")\n",
      "AssertionError: 0 != 1124000727777607680000 : Should be 1124000727777607680000\n",
      "\n",
      "======================================================================\n",
      "FAIL: runTest (mod.testing.test_factorial.<locals>.TestKnown)\n",
      "----------------------------------------------------------------------\n",
      "Traceback (most recent call last):\n",
      "  File \"/Users/eduardooportoalonso/Documents/Cursos/Ironhack/datamad1020/datamad1020/module-1/lab-functions/mod/testing.py\", line 96, in runTest\n",
      "    self.assertEqual(fn(self.input), self.output, f\"Should be {self.output}\")\n",
      "AssertionError: 0 != 18548264225739843911479684564554628438022[89 chars]00000 : Should be 185482642257398439114796845645546284380220968949399346684421580986889562184028199319100141244804501828416633516851200000000000000000000\n",
      "\n",
      "======================================================================\n",
      "FAIL: runTest (mod.testing.test_factorial.<locals>.TestKnown)\n",
      "----------------------------------------------------------------------\n",
      "Traceback (most recent call last):\n",
      "  File \"/Users/eduardooportoalonso/Documents/Cursos/Ironhack/datamad1020/datamad1020/module-1/lab-functions/mod/testing.py\", line 96, in runTest\n",
      "    self.assertEqual(fn(self.input), self.output, f\"Should be {self.output}\")\n",
      "AssertionError: 0 != 36471110918188685288249859096605464427167[49 chars]00000 : Should be 36471110918188685288249859096605464427167635314049524593701628500267962436943872000000000000000\n",
      "\n",
      "======================================================================\n",
      "FAIL: runTest (mod.testing.test_factorial.<locals>.TestKnown)\n",
      "----------------------------------------------------------------------\n",
      "Traceback (most recent call last):\n",
      "  File \"/Users/eduardooportoalonso/Documents/Cursos/Ironhack/datamad1020/datamad1020/module-1/lab-functions/mod/testing.py\", line 96, in runTest\n",
      "    self.assertEqual(fn(self.input), self.output, f\"Should be {self.output}\")\n",
      "AssertionError: 0 != 21077572983795277172136005186993895952297[87 chars]00000 : Should be 2107757298379527717213600518699389595229783738061356212322972511214654115727593174080683423236414793504734471782400000000000000000000\n",
      "\n",
      "======================================================================\n",
      "FAIL: runTest (mod.testing.test_factorial.<locals>.TestKnown)\n",
      "----------------------------------------------------------------------\n",
      "Traceback (most recent call last):\n",
      "  File \"/Users/eduardooportoalonso/Documents/Cursos/Ironhack/datamad1020/datamad1020/module-1/lab-functions/mod/testing.py\", line 96, in runTest\n",
      "    self.assertEqual(fn(self.input), self.output, f\"Should be {self.output}\")\n",
      "AssertionError: 0 != 355687428096000 : Should be 355687428096000\n",
      "\n",
      "======================================================================\n",
      "FAIL: runTest (mod.testing.test_factorial.<locals>.TestKnown)\n",
      "----------------------------------------------------------------------\n",
      "Traceback (most recent call last):\n",
      "  File \"/Users/eduardooportoalonso/Documents/Cursos/Ironhack/datamad1020/datamad1020/module-1/lab-functions/mod/testing.py\", line 96, in runTest\n",
      "    self.assertEqual(fn(self.input), self.output, f\"Should be {self.output}\")\n",
      "AssertionError: 0 != 24 : Should be 24\n",
      "\n",
      "======================================================================\n",
      "FAIL: runTest (mod.testing.test_factorial.<locals>.TestKnown)\n",
      "----------------------------------------------------------------------\n",
      "Traceback (most recent call last):\n",
      "  File \"/Users/eduardooportoalonso/Documents/Cursos/Ironhack/datamad1020/datamad1020/module-1/lab-functions/mod/testing.py\", line 96, in runTest\n",
      "    self.assertEqual(fn(self.input), self.output, f\"Should be {self.output}\")\n",
      "AssertionError: 0 != 8841761993739701954543616000000 : Should be 8841761993739701954543616000000\n",
      "\n",
      "======================================================================\n",
      "FAIL: runTest (mod.testing.test_factorial.<locals>.TestKnown)\n",
      "----------------------------------------------------------------------\n",
      "Traceback (most recent call last):\n",
      "  File \"/Users/eduardooportoalonso/Documents/Cursos/Ironhack/datamad1020/datamad1020/module-1/lab-functions/mod/testing.py\", line 96, in runTest\n",
      "    self.assertEqual(fn(self.input), self.output, f\"Should be {self.output}\")\n",
      "AssertionError: 0 != 120 : Should be 120\n",
      "\n",
      "======================================================================\n",
      "FAIL: runTest (mod.testing.test_factorial.<locals>.TestKnown)\n",
      "----------------------------------------------------------------------\n",
      "Traceback (most recent call last):\n",
      "  File \"/Users/eduardooportoalonso/Documents/Cursos/Ironhack/datamad1020/datamad1020/module-1/lab-functions/mod/testing.py\", line 96, in runTest\n",
      "    self.assertEqual(fn(self.input), self.output, f\"Should be {self.output}\")\n",
      "AssertionError: 0 != 71569457046263802294811533723186532165584[73 chars]00000 : Should be 71569457046263802294811533723186532165584657342365752577109445058227039255480148842668944867280814080000000000000000000\n",
      "\n",
      "======================================================================\n",
      "FAIL: runTest (mod.testing.test_factorial.<locals>.TestKnown)\n",
      "----------------------------------------------------------------------\n",
      "Traceback (most recent call last):\n",
      "  File \"/Users/eduardooportoalonso/Documents/Cursos/Ironhack/datamad1020/datamad1020/module-1/lab-functions/mod/testing.py\", line 96, in runTest\n",
      "    self.assertEqual(fn(self.input), self.output, f\"Should be {self.output}\")\n",
      "AssertionError: 0 != 2350561331282878571829474910515074683828862318181142924420699914240000000000000 : Should be 2350561331282878571829474910515074683828862318181142924420699914240000000000000\n",
      "\n",
      "======================================================================\n",
      "FAIL: runTest (mod.testing.test_factorial.<locals>.TestKnown)\n",
      "----------------------------------------------------------------------\n",
      "Traceback (most recent call last):\n",
      "  File \"/Users/eduardooportoalonso/Documents/Cursos/Ironhack/datamad1020/datamad1020/module-1/lab-functions/mod/testing.py\", line 96, in runTest\n",
      "    self.assertEqual(fn(self.input), self.output, f\"Should be {self.output}\")\n",
      "AssertionError: 0 != 620448401733239439360000 : Should be 620448401733239439360000\n",
      "\n",
      "======================================================================\n",
      "FAIL: runTest (mod.testing.test_factorial.<locals>.TestKnown)\n",
      "----------------------------------------------------------------------\n",
      "Traceback (most recent call last):\n",
      "  File \"/Users/eduardooportoalonso/Documents/Cursos/Ironhack/datamad1020/datamad1020/module-1/lab-functions/mod/testing.py\", line 96, in runTest\n",
      "    self.assertEqual(fn(self.input), self.output, f\"Should be {self.output}\")\n",
      "AssertionError: 0 != 24 : Should be 24\n",
      "\n",
      "======================================================================\n",
      "FAIL: runTest (mod.testing.test_factorial.<locals>.TestKnown)\n",
      "----------------------------------------------------------------------\n",
      "Traceback (most recent call last):\n",
      "  File \"/Users/eduardooportoalonso/Documents/Cursos/Ironhack/datamad1020/datamad1020/module-1/lab-functions/mod/testing.py\", line 96, in runTest\n",
      "    self.assertEqual(fn(self.input), self.output, f\"Should be {self.output}\")\n",
      "AssertionError: 0 != 60415263063373835637355132068513997507264512000000000 : Should be 60415263063373835637355132068513997507264512000000000\n",
      "\n",
      "======================================================================\n",
      "FAIL: runTest (mod.testing.test_factorial.<locals>.TestKnown)\n",
      "----------------------------------------------------------------------\n",
      "Traceback (most recent call last):\n",
      "  File \"/Users/eduardooportoalonso/Documents/Cursos/Ironhack/datamad1020/datamad1020/module-1/lab-functions/mod/testing.py\", line 96, in runTest\n",
      "    self.assertEqual(fn(self.input), self.output, f\"Should be {self.output}\")\n",
      "AssertionError: 0 != 80658175170943878571660636856403766975289505440883277824000000000000 : Should be 80658175170943878571660636856403766975289505440883277824000000000000\n",
      "\n",
      "======================================================================\n",
      "FAIL: runTest (mod.testing.test_factorial.<locals>.TestKnown)\n",
      "----------------------------------------------------------------------\n",
      "Traceback (most recent call last):\n",
      "  File \"/Users/eduardooportoalonso/Documents/Cursos/Ironhack/datamad1020/datamad1020/module-1/lab-functions/mod/testing.py\", line 96, in runTest\n",
      "    self.assertEqual(fn(self.input), self.output, f\"Should be {self.output}\")\n",
      "AssertionError: 0 != 12696403353658275925965100847566516959580321051449436762275840000000000000 : Should be 12696403353658275925965100847566516959580321051449436762275840000000000000\n",
      "\n",
      "======================================================================\n",
      "FAIL: runTest (mod.testing.test_factorial.<locals>.TestKnown)\n",
      "----------------------------------------------------------------------\n",
      "Traceback (most recent call last):\n",
      "  File \"/Users/eduardooportoalonso/Documents/Cursos/Ironhack/datamad1020/datamad1020/module-1/lab-functions/mod/testing.py\", line 96, in runTest\n",
      "    self.assertEqual(fn(self.input), self.output, f\"Should be {self.output}\")\n",
      "AssertionError: 0 != 39455239697206586511897471180120610571436[79 chars]00000 : Should be 39455239697206586511897471180120610571436503407643446275224357528369751562996629334879591940103770870906880000000000000000000\n",
      "\n",
      "======================================================================\n",
      "FAIL: runTest (mod.testing.test_factorial.<locals>.TestKnown)\n",
      "----------------------------------------------------------------------\n",
      "Traceback (most recent call last):\n",
      "  File \"/Users/eduardooportoalonso/Documents/Cursos/Ironhack/datamad1020/datamad1020/module-1/lab-functions/mod/testing.py\", line 96, in runTest\n",
      "    self.assertEqual(fn(self.input), self.output, f\"Should be {self.output}\")\n",
      "AssertionError: 0 != 16507955160908461081216919262453619309839[91 chars]00000 : Should be 16507955160908461081216919262453619309839666236496541854913520707833171034378509739399912570787600662729080382999756800000000000000000000\n",
      "\n",
      "======================================================================\n",
      "FAIL: runTest (mod.testing.test_factorial.<locals>.TestKnown)\n",
      "----------------------------------------------------------------------\n",
      "Traceback (most recent call last):\n",
      "  File \"/Users/eduardooportoalonso/Documents/Cursos/Ironhack/datamad1020/datamad1020/module-1/lab-functions/mod/testing.py\", line 96, in runTest\n",
      "    self.assertEqual(fn(self.input), self.output, f\"Should be {self.output}\")\n",
      "AssertionError: 0 != 71569457046263802294811533723186532165584[73 chars]00000 : Should be 71569457046263802294811533723186532165584657342365752577109445058227039255480148842668944867280814080000000000000000000\n",
      "\n",
      "======================================================================\n",
      "FAIL: runTest (mod.testing.test_factorial.<locals>.TestKnown)\n",
      "----------------------------------------------------------------------\n",
      "Traceback (most recent call last):\n",
      "  File \"/Users/eduardooportoalonso/Documents/Cursos/Ironhack/datamad1020/datamad1020/module-1/lab-functions/mod/testing.py\", line 96, in runTest\n",
      "    self.assertEqual(fn(self.input), self.output, f\"Should be {self.output}\")\n",
      "AssertionError: 0 != 39455239697206586511897471180120610571436[79 chars]00000 : Should be 39455239697206586511897471180120610571436503407643446275224357528369751562996629334879591940103770870906880000000000000000000\n",
      "\n",
      "======================================================================\n",
      "FAIL: runTest (mod.testing.test_factorial.<locals>.TestKnown)\n",
      "----------------------------------------------------------------------\n",
      "Traceback (most recent call last):\n",
      "  File \"/Users/eduardooportoalonso/Documents/Cursos/Ironhack/datamad1020/datamad1020/module-1/lab-functions/mod/testing.py\", line 96, in runTest\n",
      "    self.assertEqual(fn(self.input), self.output, f\"Should be {self.output}\")\n",
      "AssertionError: 0 != 121645100408832000 : Should be 121645100408832000\n",
      "\n",
      "======================================================================\n",
      "FAIL: runTest (mod.testing.test_factorial.<locals>.TestKnown)\n",
      "----------------------------------------------------------------------\n",
      "Traceback (most recent call last):\n",
      "  File \"/Users/eduardooportoalonso/Documents/Cursos/Ironhack/datamad1020/datamad1020/module-1/lab-functions/mod/testing.py\", line 96, in runTest\n",
      "    self.assertEqual(fn(self.input), self.output, f\"Should be {self.output}\")\n",
      "AssertionError: 0 != 25852016738884976640000 : Should be 25852016738884976640000\n",
      "\n",
      "======================================================================\n",
      "FAIL: runTest (mod.testing.test_factorial.<locals>.TestKnown)\n",
      "----------------------------------------------------------------------\n",
      "Traceback (most recent call last):\n",
      "  File \"/Users/eduardooportoalonso/Documents/Cursos/Ironhack/datamad1020/datamad1020/module-1/lab-functions/mod/testing.py\", line 96, in runTest\n",
      "    self.assertEqual(fn(self.input), self.output, f\"Should be {self.output}\")\n",
      "AssertionError: 0 != 10873661566567430802736528525678660100418[101 chars]00000 : Should be 108736615665674308027365285256786601004186803580182872307497374434045199869417927630229109214583415458560865651202385340530688000000000000000000000\n",
      "\n",
      "======================================================================\n",
      "FAIL: runTest (mod.testing.test_factorial.<locals>.TestKnown)\n",
      "----------------------------------------------------------------------\n",
      "Traceback (most recent call last):\n",
      "  File \"/Users/eduardooportoalonso/Documents/Cursos/Ironhack/datamad1020/datamad1020/module-1/lab-functions/mod/testing.py\", line 96, in runTest\n",
      "    self.assertEqual(fn(self.input), self.output, f\"Should be {self.output}\")\n",
      "AssertionError: 0 != 10329978488239059262599702099394727095397[103 chars]00000 : Should be 10329978488239059262599702099394727095397746340117372869212250571234293987594703124871765375385424468563282236864226607350415360000000000000000000000\n",
      "\n",
      "======================================================================\n",
      "FAIL: runTest (mod.testing.test_factorial.<locals>.TestKnown)\n",
      "----------------------------------------------------------------------\n",
      "Traceback (most recent call last):\n",
      "  File \"/Users/eduardooportoalonso/Documents/Cursos/Ironhack/datamad1020/datamad1020/module-1/lab-functions/mod/testing.py\", line 96, in runTest\n",
      "    self.assertEqual(fn(self.input), self.output, f\"Should be {self.output}\")\n",
      "AssertionError: 0 != 54434493907744306400372924024784275264429[47 chars]00000 : Should be 544344939077443064003729240247842752644293064388798874532860126869671081148416000000000000000\n",
      "\n",
      "======================================================================\n",
      "FAIL: runTest (mod.testing.test_factorial.<locals>.TestKnown)\n",
      "----------------------------------------------------------------------\n",
      "Traceback (most recent call last):\n",
      "  File \"/Users/eduardooportoalonso/Documents/Cursos/Ironhack/datamad1020/datamad1020/module-1/lab-functions/mod/testing.py\", line 96, in runTest\n",
      "    self.assertEqual(fn(self.input), self.output, f\"Should be {self.output}\")\n",
      "AssertionError: 0 != 13763753091226345046315979581580902400000000 : Should be 13763753091226345046315979581580902400000000\n",
      "\n",
      "======================================================================\n",
      "FAIL: runTest (mod.testing.test_factorial.<locals>.TestKnown)\n",
      "----------------------------------------------------------------------\n",
      "Traceback (most recent call last):\n",
      "  File \"/Users/eduardooportoalonso/Documents/Cursos/Ironhack/datamad1020/datamad1020/module-1/lab-functions/mod/testing.py\", line 96, in runTest\n",
      "    self.assertEqual(fn(self.input), self.output, f\"Should be {self.output}\")\n",
      "AssertionError: 0 != 21077572983795277172136005186993895952297[87 chars]00000 : Should be 2107757298379527717213600518699389595229783738061356212322972511214654115727593174080683423236414793504734471782400000000000000000000\n",
      "\n",
      "======================================================================\n",
      "FAIL: runTest (mod.testing.test_factorial.<locals>.TestKnown)\n",
      "----------------------------------------------------------------------\n",
      "Traceback (most recent call last):\n",
      "  File \"/Users/eduardooportoalonso/Documents/Cursos/Ironhack/datamad1020/datamad1020/module-1/lab-functions/mod/testing.py\", line 96, in runTest\n",
      "    self.assertEqual(fn(self.input), self.output, f\"Should be {self.output}\")\n",
      "AssertionError: 0 != 80658175170943878571660636856403766975289505440883277824000000000000 : Should be 80658175170943878571660636856403766975289505440883277824000000000000\n",
      "\n",
      "======================================================================\n",
      "FAIL: runTest (mod.testing.test_factorial.<locals>.TestKnown)\n",
      "----------------------------------------------------------------------\n",
      "Traceback (most recent call last):\n",
      "  File \"/Users/eduardooportoalonso/Documents/Cursos/Ironhack/datamad1020/datamad1020/module-1/lab-functions/mod/testing.py\", line 96, in runTest\n",
      "    self.assertEqual(fn(self.input), self.output, f\"Should be {self.output}\")\n",
      "AssertionError: 0 != 1124000727777607680000 : Should be 1124000727777607680000\n",
      "\n",
      "======================================================================\n",
      "FAIL: runTest (mod.testing.test_factorial.<locals>.TestKnown)\n",
      "----------------------------------------------------------------------\n",
      "Traceback (most recent call last):\n",
      "  File \"/Users/eduardooportoalonso/Documents/Cursos/Ironhack/datamad1020/datamad1020/module-1/lab-functions/mod/testing.py\", line 96, in runTest\n",
      "    self.assertEqual(fn(self.input), self.output, f\"Should be {self.output}\")\n",
      "AssertionError: 0 != 4274883284060025564298013753389399649690343788366813724672000000000000 : Should be 4274883284060025564298013753389399649690343788366813724672000000000000\n",
      "\n",
      "======================================================================\n",
      "FAIL: runTest (mod.testing.test_factorial.<locals>.TestKnown)\n",
      "----------------------------------------------------------------------\n",
      "Traceback (most recent call last):\n",
      "  File \"/Users/eduardooportoalonso/Documents/Cursos/Ironhack/datamad1020/datamad1020/module-1/lab-functions/mod/testing.py\", line 96, in runTest\n",
      "    self.assertEqual(fn(self.input), self.output, f\"Should be {self.output}\")\n",
      "AssertionError: 0 != 61234458376886086861524070385274672740778[58 chars]00000 : Should be 61234458376886086861524070385274672740778091784697328983823014963978384987221689274204160000000000000000\n",
      "\n",
      "======================================================================\n",
      "FAIL: runTest (mod.testing.test_factorial.<locals>.TestKnown)\n",
      "----------------------------------------------------------------------\n",
      "Traceback (most recent call last):\n",
      "  File \"/Users/eduardooportoalonso/Documents/Cursos/Ironhack/datamad1020/datamad1020/module-1/lab-functions/mod/testing.py\", line 96, in runTest\n",
      "    self.assertEqual(fn(self.input), self.output, f\"Should be {self.output}\")\n",
      "AssertionError: 0 != 6402373705728000 : Should be 6402373705728000\n",
      "\n",
      "----------------------------------------------------------------------\n",
      "Ran 100 tests in 0.346s\n",
      "\n",
      "FAILED (failures=100)\n"
     ]
    }
   ],
   "source": [
    "# This will test your function \n",
    "test_factorial(factorial)"
   ]
  },
  {
   "cell_type": "markdown",
   "metadata": {},
   "source": [
    "## 7. Write a function that takes a list and returns a list of the unique values.\n",
    "\n",
    "`NOTE: You cannot use set. 🤔`"
   ]
  },
  {
   "cell_type": "code",
   "execution_count": 14,
   "metadata": {},
   "outputs": [],
   "source": [
    "def unique(arr):\n",
    "    uniq = {}\n",
    "    for e in arr:\n",
    "        uniq[e] = ''\n",
    "    return [e for e in uniq]"
   ]
  },
  {
   "cell_type": "code",
   "execution_count": 15,
   "metadata": {
    "tags": []
   },
   "outputs": [
    {
     "output_type": "stream",
     "name": "stderr",
     "text": [
      "....................................................................................................\n",
      "----------------------------------------------------------------------\n",
      "Ran 100 tests in 0.535s\n",
      "\n",
      "OK\n"
     ]
    }
   ],
   "source": [
    "# This will test your function \n",
    "test_unique(unique)"
   ]
  },
  {
   "cell_type": "markdown",
   "metadata": {},
   "source": [
    "## 8. Write a function that returns the mode of a list, i.e.: the element that appears the most times.\n",
    "`NOTE: You should not use count... 🧐`"
   ]
  },
  {
   "cell_type": "code",
   "execution_count": 4,
   "metadata": {},
   "outputs": [],
   "source": [
    "def mode_counter(arr):\n",
    "    counts = {}\n",
    "    for e in arr:\n",
    "        counts[e] = 0\n",
    "    for e in arr:\n",
    "        counts[e] += 1\n",
    "\n",
    "    to_list = []\n",
    "    for n in counts:\n",
    "        to_list += [(n,counts[n])]\n",
    "\n",
    "    act = ('',0)\n",
    "    for e in to_list:\n",
    "        if e[1] > act[1]:\n",
    "            act = e\n",
    "\n",
    "    return act[0]"
   ]
  },
  {
   "cell_type": "code",
   "execution_count": 5,
   "metadata": {
    "tags": []
   },
   "outputs": [
    {
     "output_type": "stream",
     "name": "stderr",
     "text": [
      "....................................................................................................\n",
      "----------------------------------------------------------------------\n",
      "Ran 100 tests in 0.174s\n",
      "\n",
      "OK\n"
     ]
    }
   ],
   "source": [
    "# This will test your function \n",
    "test_mode(mode_counter)"
   ]
  },
  {
   "cell_type": "markdown",
   "metadata": {},
   "source": [
    "## 9. Write a function that calculates the standard deviation of a list.\n",
    "`NOTE: Do not use any libraries or already built functions. 😉`"
   ]
  },
  {
   "cell_type": "code",
   "execution_count": 19,
   "metadata": {},
   "outputs": [],
   "source": [
    "def st_dev(arr):\n",
    "    suma = 0\n",
    "    elem = 0\n",
    "    for e in arr:\n",
    "        suma += e\n",
    "        elem += 1\n",
    "\n",
    "    mean = suma / elem\n",
    "    deviations = []\n",
    "\n",
    "    for e in arr:\n",
    "        dev = (e-mean)**2\n",
    "        deviations += [dev]\n",
    "\n",
    "    sum_dev = 0\n",
    "    for e in deviations:\n",
    "        sum_dev += e\n",
    "\n",
    "    a = (sum_dev/(elem-1))**0.5\n",
    "    return a\n"
   ]
  },
  {
   "cell_type": "code",
   "execution_count": 20,
   "metadata": {
    "tags": []
   },
   "outputs": [
    {
     "output_type": "stream",
     "name": "stderr",
     "text": [
      "....................................................................................................\n",
      "----------------------------------------------------------------------\n",
      "Ran 100 tests in 0.702s\n",
      "\n",
      "OK\n"
     ]
    }
   ],
   "source": [
    "# This will test your function \n",
    "test_stdev(st_dev)"
   ]
  },
  {
   "cell_type": "markdown",
   "metadata": {},
   "source": [
    "## 10. Write a function to check if a string is a pangram, i.e.: if it contains all the letters of the alphabet at least once."
   ]
  },
  {
   "cell_type": "code",
   "execution_count": 21,
   "metadata": {},
   "outputs": [],
   "source": [
    "def pangram(string):\n",
    "    letters = {}\n",
    "    for e in string:\n",
    "        letters[e] = ''\n",
    "    letters_l = [e for e in letters]\n",
    "\n",
    "    count = 0\n",
    "    for e in letters_l:\n",
    "        count += 1\n",
    "\n",
    "    if count >= 26:\n",
    "        return True\n",
    "    else:\n",
    "        return False"
   ]
  },
  {
   "cell_type": "code",
   "execution_count": 22,
   "metadata": {},
   "outputs": [
    {
     "output_type": "stream",
     "name": "stderr",
     "text": [
      "..............................\n",
      "----------------------------------------------------------------------\n",
      "Ran 30 tests in 0.065s\n",
      "\n",
      "OK\n"
     ]
    }
   ],
   "source": [
    "# This will test your function \n",
    "test_pangram(pangram)"
   ]
  },
  {
   "cell_type": "markdown",
   "metadata": {},
   "source": [
    "## 11. Write a function that receives a string of comma separated words and returns a string of comma separated words sorted alphabetically.\n",
    "\n",
    "`NOTE: You may use sorted but not split and definitely no join! 🤪`"
   ]
  },
  {
   "cell_type": "code",
   "execution_count": 23,
   "metadata": {},
   "outputs": [],
   "source": [
    "def sort_alpha(string):\n",
    "    string += ','\n",
    "    alpha = \"abcdefghijklmnopqrstuvwxyz\"\n",
    "    list_of_words = []\n",
    "    word = \"\"\n",
    "\n",
    "    for e in string:\n",
    "        if e != ',':\n",
    "            word += e\n",
    "        else:\n",
    "            list_of_words += [word]\n",
    "            word = \"\"\n",
    "    \n",
    "    list_of_words.sort() #Probar sin sort si hay tiempo\n",
    "\n",
    "    output_word = \"\"\n",
    "    for w in list_of_words:\n",
    "        if w != list_of_words[-1]:\n",
    "            output_word += w\n",
    "            output_word += ','\n",
    "        else:\n",
    "            output_word += w\n",
    "\n",
    "    return output_word"
   ]
  },
  {
   "cell_type": "code",
   "execution_count": 24,
   "metadata": {
    "tags": []
   },
   "outputs": [
    {
     "output_type": "stream",
     "name": "stderr",
     "text": [
      "....................................................................................................\n",
      "----------------------------------------------------------------------\n",
      "Ran 100 tests in 0.231s\n",
      "\n",
      "OK\n"
     ]
    }
   ],
   "source": [
    "# This will test your function \n",
    "test_alpha(sort_alpha)"
   ]
  },
  {
   "cell_type": "markdown",
   "metadata": {},
   "source": [
    "## 12. Write a function to check if a given password is strong (at least 8 characters, at least one lower case, at least one upper case, at least one number and at least one special character). It should output True if strong and False if not.\n",
    "`Valid special characters: # @ ! $ % & ( ) ^ * [ ] { }`"
   ]
  },
  {
   "cell_type": "code",
   "execution_count": 25,
   "metadata": {},
   "outputs": [],
   "source": [
    "def check_pass(string):\n",
    "    char_num = 0\n",
    "    for e in string:\n",
    "        char_num += 1\n",
    "\n",
    "    if char_num >= 8:\n",
    "        pass\n",
    "    else:\n",
    "        return False\n",
    "\n",
    "    characters = [\"abcdefghijklmnopqrstuvwxyz\", \"ABCDEFGHIJKLMNOPQRSTUVWXYZ\", \"1234567890\", \"#@!$%&()^*[]{}\"]\n",
    "\n",
    "    for car_str in characters:\n",
    "        al_equals = 0\n",
    "        for c in car_str:\n",
    "            for s in string:\n",
    "                if s == c:\n",
    "                    al_equals += 1 #Try to top the loop whenever this value gets to 1\n",
    "        \n",
    "        if al_equals > 0:\n",
    "            pass\n",
    "        else:\n",
    "            return False\n",
    "\n",
    "    return True\n",
    "        "
   ]
  },
  {
   "cell_type": "code",
   "execution_count": 26,
   "metadata": {
    "tags": []
   },
   "outputs": [
    {
     "output_type": "stream",
     "name": "stderr",
     "text": [
      "....................................................................................................\n",
      "----------------------------------------------------------------------\n",
      "Ran 100 tests in 0.551s\n",
      "\n",
      "OK\n"
     ]
    }
   ],
   "source": [
    "# This will test your function \n",
    "test_pass(check_pass)"
   ]
  }
 ],
 "metadata": {
  "kernelspec": {
   "name": "Python 3.8.5 64-bit",
   "display_name": "Python 3.8.5 64-bit",
   "metadata": {
    "interpreter": {
     "hash": "082e9a3bcad0a290d0001e938aa60b99250c6c2ef33a923c00b70f9826caf4b7"
    }
   }
  },
  "language_info": {
   "codemirror_mode": {
    "name": "ipython",
    "version": 3
   },
   "file_extension": ".py",
   "mimetype": "text/x-python",
   "name": "python",
   "nbconvert_exporter": "python",
   "pygments_lexer": "ipython3",
   "version": "3.8.5-final"
  }
 },
 "nbformat": 4,
 "nbformat_minor": 4
}