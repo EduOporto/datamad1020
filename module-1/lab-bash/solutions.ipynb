{
 "cells": [
  {
   "cell_type": "markdown",
   "metadata": {},
   "source": [
    "#### Imprime en consola Hello World."
   ]
  },
  {
   "source": [
    "Your solution here:\n",
    "\n",
    "```bash\n",
    "echo \"Hello World\"\n",
    "```"
   ],
   "cell_type": "markdown",
   "metadata": {}
  },
  {
   "source": [
    "#### Crea un directorio nuevo llamado new_dir."
   ],
   "cell_type": "markdown",
   "metadata": {}
  },
  {
   "source": [
    "Your solution here:\n",
    "\n",
    "```bash\n",
    "mkdir new_dir\n",
    "```"
   ],
   "cell_type": "markdown",
   "metadata": {}
  },
  {
   "source": [
    "#### Elimina ese directorio."
   ],
   "cell_type": "markdown",
   "metadata": {}
  },
  {
   "cell_type": "markdown",
   "metadata": {},
   "source": [
    "Your solution here:\n",
    "\n",
    "```bash\n",
    "rm -r new_dir\n",
    "```"
   ]
  },
  {
   "source": [
    "#### Copia el archivo `sed.txt` dentro de la carpeta lorem a la carpeta lorem-copy."
   ],
   "cell_type": "markdown",
   "metadata": {}
  },
  {
   "source": [
    "Your solution here:\n",
    "\n",
    "```bash\n",
    "eduardooportoalonso@Eduardos-MacBook-Pro lorem % cp sed.txt ../lorem-copy\n",
    "```"
   ],
   "cell_type": "markdown",
   "metadata": {}
  },
  {
   "source": [
    "#### Copia los otros dos archivos de la carpeta lorem a la carpeta lorem-copy en una sola línea mediante `;`."
   ],
   "cell_type": "markdown",
   "metadata": {}
  },
  {
   "source": [
    "Your solution here:\n",
    "\n",
    "```bash\n",
    "eduardooportoalonso@Eduardos-MacBook-Pro lorem % cp lorem.txt at.txt ../lorem-copy\n",
    "```"
   ],
   "cell_type": "markdown",
   "metadata": {}
  },
  {
   "source": [
    "#### Muestra el contenido del archivo `sed.txt` dentro de la carpeta lorem."
   ],
   "cell_type": "markdown",
   "metadata": {}
  },
  {
   "source": [
    "Your solution here:\n",
    "```bash\n",
    "eduardooportoalonso@Eduardos-MacBook-Pro lorem % cat sed.txt\n",
    "```"
   ],
   "cell_type": "markdown",
   "metadata": {}
  },
  {
   "source": [
    "#### Muestra el contenido de los archivos `at.txt` y `lorem.txt` dentro de la carpeta lorem. "
   ],
   "cell_type": "markdown",
   "metadata": {}
  },
  {
   "source": [
    "Your solution here:\n",
    "```bash\n",
    "eduardooportoalonso@Eduardos-MacBook-Pro lorem % cat at.txt lorem.txt\n",
    "```"
   ],
   "cell_type": "markdown",
   "metadata": {}
  },
  {
   "source": [
    "#### Visualiza las primeras 3 líneas del archivo `sed.txt` dentro de la carpeta lorem-copy "
   ],
   "cell_type": "markdown",
   "metadata": {}
  },
  {
   "source": [
    "Your solution here:\n",
    "```bash\n",
    "eduardooportoalonso@Eduardos-MacBook-Pro lorem-copy % head -3 sed.txt\n",
    "```"
   ],
   "cell_type": "markdown",
   "metadata": {}
  },
  {
   "source": [
    "#### Visualiza las ultimas 3 líneas del archivo `sed.txt` dentro de la carpeta lorem-copy "
   ],
   "cell_type": "markdown",
   "metadata": {}
  },
  {
   "source": [
    "Your solution here:\n",
    "```bash\n",
    "eduardooportoalonso@Eduardos-MacBook-Pro lorem-copy % tail -3 sed.txt\n",
    "```"
   ],
   "cell_type": "markdown",
   "metadata": {}
  },
  {
   "source": [
    "#### Añade `Homo homini lupus.` al final de archivo `sed.txt` dentro de la carpeta lorem-copy."
   ],
   "cell_type": "markdown",
   "metadata": {}
  },
  {
   "source": [
    "Your solution here:\n",
    "```bash\n",
    "eduardooportoalonso@Eduardos-MacBook-Pro lorem-copy % echo 'Homo homini lupus.' >> sed.txt\n",
    "```"
   ],
   "cell_type": "markdown",
   "metadata": {}
  },
  {
   "source": [
    "#### Visualiza las últimas 3 líneas del archivo `sed.txt` dentro de la carpeta lorem-copy. Deberías ver ahora `Homo homini lupus.`."
   ],
   "cell_type": "markdown",
   "metadata": {}
  },
  {
   "source": [
    "Your solution here:\n",
    "```bash\n",
    "eduardooportoalonso@Eduardos-MacBook-Pro lorem-copy % tail -3 sed.txt\n",
    "```"
   ],
   "cell_type": "markdown",
   "metadata": {}
  },
  {
   "source": [
    "#### Sustituye todas las apariciones de `et` por `ET` del archivo `at.txt` dentro de la carpeta lorem-copy. Deberás usar `sed`."
   ],
   "cell_type": "markdown",
   "metadata": {}
  },
  {
   "source": [
    "Your solution here:\n",
    "```bash\n",
    "eduardooportoalonso@Eduardos-MBP lorem-copy % sed -i-e 's/et/ET/g' at.txt\n",
    "```"
   ],
   "cell_type": "markdown",
   "metadata": {}
  },
  {
   "source": [
    "#### Encuentra al usuario activo en el sistema."
   ],
   "cell_type": "markdown",
   "metadata": {}
  },
  {
   "source": [
    "Your solution here:\n",
    "```bash\n",
    "% id -un\n",
    "```"
   ],
   "cell_type": "markdown",
   "metadata": {}
  },
  {
   "source": [
    "#### Encuentra dónde estás en tu sistema de ficheros."
   ],
   "cell_type": "markdown",
   "metadata": {}
  },
  {
   "source": [
    "Your solution here:\n",
    "```bash\n",
    "% pwd\n",
    "```"
   ],
   "cell_type": "markdown",
   "metadata": {}
  },
  {
   "source": [
    "#### Lista los archivos que terminan por `.txt` en la carpeta lorem."
   ],
   "cell_type": "markdown",
   "metadata": {}
  },
  {
   "source": [
    "Your solution here:\n",
    "```bash\n",
    "eduardooportoalonso@Eduardos-MBP lorem % ls | grep .txt\n",
    "```"
   ],
   "cell_type": "markdown",
   "metadata": {}
  },
  {
   "source": [
    "#### Cuenta el número de líneas que tiene el archivo `sed.txt` dentro de la carpeta lorem."
   ],
   "cell_type": "markdown",
   "metadata": {}
  },
  {
   "source": [
    "Your solution here:\n",
    "```bash\n",
    "eduardooportoalonso@Eduardos-MBP lorem % wc -l sed.txt\n",
    "```"
   ],
   "cell_type": "markdown",
   "metadata": {}
  },
  {
   "source": [
    "#### Cuenta el número de **archivos** que empiezan por `lorem` que están en este directorio y en directorios internos."
   ],
   "cell_type": "markdown",
   "metadata": {}
  },
  {
   "source": [
    "Your solution here:\n",
    "```bash\n",
    "eduardooportoalonso@Eduardos-MBP lab-bash % find 'lorem/' -type f | grep lorem | wc -l\n",
    "```"
   ],
   "cell_type": "markdown",
   "metadata": {}
  },
  {
   "source": [
    "#### Encuentra todas las apariciones de `et` en `at.txt` dentro de la carpeta lorem."
   ],
   "cell_type": "markdown",
   "metadata": {}
  },
  {
   "source": [
    "Your solution here:\n",
    "```bash\n",
    "eduardooportoalonso@Eduardos-MBP lorem % grep -R 'et' at.txt\n",
    "```"
   ],
   "cell_type": "markdown",
   "metadata": {}
  },
  {
   "source": [
    "#### Cuenta el número de apariciones del string `et` en `at.txt` dentro de la carpeta lorem."
   ],
   "cell_type": "markdown",
   "metadata": {}
  },
  {
   "source": [
    "Your solution here:\n",
    "```bash\n",
    "eduardooportoalonso@Eduardos-MBP lorem % grep -R 'et' at.txt | wc -l\n",
    "```"
   ],
   "cell_type": "markdown",
   "metadata": {}
  },
  {
   "source": [
    "#### Cuenta el número de apariciones del string `et` en todos los archivos del directorio lorem-copy."
   ],
   "cell_type": "markdown",
   "metadata": {}
  },
  {
   "source": [
    "Your solution here:\n",
    "```bash\n",
    "eduardooportoalonso@Eduardos-MBP lorem-copy % grep -s 'et' * | wc -l\n",
    "```"
   ],
   "cell_type": "markdown",
   "metadata": {}
  },
  {
   "source": [
    "## Bonus\n",
    "\n",
    "#### Almacena en una variable name tu nombre."
   ],
   "cell_type": "markdown",
   "metadata": {}
  },
  {
   "source": [
    "Your solution here:\n",
    "```bash\n",
    "% name=\"Eduardo\"\n",
    "```"
   ],
   "cell_type": "markdown",
   "metadata": {}
  },
  {
   "source": [
    "#### Imprime esa variable."
   ],
   "cell_type": "markdown",
   "metadata": {}
  },
  {
   "source": [
    "Your solution here:\n",
    "```bash\n",
    "% echo $name\n",
    "```"
   ],
   "cell_type": "markdown",
   "metadata": {}
  },
  {
   "source": [
    "#### Crea un directorio nuevo que se llame como el contenido de la variable name."
   ],
   "cell_type": "markdown",
   "metadata": {}
  },
  {
   "source": [
    "Your solution here:\n",
    "```bash\n",
    "% mkdir $name\n",
    "```"
   ],
   "cell_type": "markdown",
   "metadata": {}
  },
  {
   "source": [
    "#### Elimina ese directorio."
   ],
   "cell_type": "markdown",
   "metadata": {}
  },
  {
   "source": [
    "Your solution here:\n",
    "```bash\n",
    "rm -r $name\n",
    "```"
   ],
   "cell_type": "markdown",
   "metadata": {}
  },
  {
   "source": [
    "#### Muestra los procesos de forma jerárquica que se están ejecutando en tu ordenador:\n",
    "1. Usando el comando top o htop"
   ],
   "cell_type": "markdown",
   "metadata": {}
  },
  {
   "source": [
    "Your solution here:\n",
    "```bash\n",
    "% top\n",
    "```"
   ],
   "cell_type": "markdown",
   "metadata": {}
  },
  {
   "source": [
    "2. Usando el comando ps con argumentos"
   ],
   "cell_type": "markdown",
   "metadata": {}
  },
  {
   "source": [
    "Your solution here:\n",
    "```bash\n",
    "% ps -f\n",
    "% ps -A\n",
    "```"
   ],
   "cell_type": "markdown",
   "metadata": {}
  },
  {
   "source": [
    "#### Crea 3 alias y haz que estén disponibles cada vez que inicias sesión"
   ],
   "cell_type": "markdown",
   "metadata": {}
  },
  {
   "source": [
    "Your solution here:\n",
    "```bash\n",
    "eduardooportoalonso@Eduardos-MBP ~ % alias ihdir='cd Documents/Cursos/Ironhack/datamad1020/datamad1020/'\n",
    "eduardooportoalonso@Eduardos-MBP datamad1020 % alias hidden='ls -a'\n",
    "eduardooportoalonso@Eduardos-MBP lab-bash % alias cfiles='find . -type f | wc -l'\n",
    "```"
   ],
   "cell_type": "markdown",
   "metadata": {}
  },
  {
   "source": [
    "#### Comprime las carpetas lorem y lorem-copy en un archivo llamado lorem-compressed.tar.gz"
   ],
   "cell_type": "markdown",
   "metadata": {}
  },
  {
   "source": [
    "Your solution here:\n",
    "```bash\n",
    "eduardooportoalonso@Eduardos-MBP lab-bash % tar -czvf lorem-compressed.tar.gz lorem lorem-copy\n",
    "```"
   ],
   "cell_type": "markdown",
   "metadata": {}
  },
  {
   "source": [
    "#### Descomprime el archivo lorem-compressed.tar.gz en la carpeta lorem-uncompressed"
   ],
   "cell_type": "markdown",
   "metadata": {}
  },
  {
   "source": [
    "Your solution here:\n",
    "```bash\n",
    "eduardooportoalonso@Eduardos-MBP lab-bash % tar -xvf lorem-compressed.tar.gz\n",
    "```"
   ],
   "cell_type": "markdown",
   "metadata": {}
  }
 ],
 "metadata": {
  "kernelspec": {
   "name": "Python 3.8.5 64-bit",
   "display_name": "Python 3.8.5 64-bit",
   "metadata": {
    "interpreter": {
     "hash": "082e9a3bcad0a290d0001e938aa60b99250c6c2ef33a923c00b70f9826caf4b7"
    }
   }
  },
  "language_info": {
   "codemirror_mode": {
    "name": "ipython",
    "version": 3
   },
   "file_extension": ".py",
   "mimetype": "text/x-python",
   "name": "python",
   "nbconvert_exporter": "python",
   "pygments_lexer": "ipython3",
   "version": "3.8.5-final"
  }
 },
 "nbformat": 4,
 "nbformat_minor": 4
}