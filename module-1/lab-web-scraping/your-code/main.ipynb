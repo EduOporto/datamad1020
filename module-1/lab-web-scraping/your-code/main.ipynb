{
 "cells": [
  {
   "cell_type": "markdown",
   "metadata": {},
   "source": [
    "# Web Scraping Lab\n",
    "\n",
    "You will find in this notebook some web scraping exercises to practice your scraping skills using `requests` and `Beautiful Soup`.\n",
    "\n",
    "**Tips:**\n",
    "\n",
    "- Check the [response status code](https://http.cat/) for each request to ensure you have obtained the intended content.\n",
    "- Look at the HTML code in each request to understand the kind of info you are getting and its format.\n",
    "- Check for patterns in the response text to extract the data/info requested in each question.\n",
    "- Visit each url and take a look at its source through Chrome DevTools. You'll need to identify the html tags, special class names etc. used for the html content you are expected to extract.\n",
    "- Check out the css selectors."
   ]
  },
  {
   "cell_type": "markdown",
   "metadata": {},
   "source": [
    "### Useful Resources\n",
    "- [Requests library](http://docs.python-requests.org/en/master/#the-user-guide) documentation \n",
    "- [Beautiful Soup Doc](https://www.crummy.com/software/BeautifulSoup/bs4/doc/)\n",
    "- [List of HTTP status codes](https://en.wikipedia.org/wiki/List_of_HTTP_status_codes)\n",
    "- [HTML basics](http://www.simplehtmlguide.com/cheatsheet.php)\n",
    "- [CSS basics](https://www.cssbasics.com/#page_start)"
   ]
  },
  {
   "cell_type": "markdown",
   "metadata": {},
   "source": [
    "#### First of all, gathering our tools."
   ]
  },
  {
   "cell_type": "code",
   "execution_count": 1,
   "metadata": {},
   "outputs": [],
   "source": [
    "import requests\n",
    "from bs4 import BeautifulSoup\n",
    "import pandas as pd\n",
    "import json\n",
    "import numpy as np\n",
    "import re"
   ]
  },
  {
   "cell_type": "markdown",
   "metadata": {},
   "source": [
    "#### Download, parse (using BeautifulSoup), and print the content from the Trending Developers page from GitHub:"
   ]
  },
  {
   "cell_type": "code",
   "execution_count": 2,
   "metadata": {},
   "outputs": [],
   "source": [
    "# This is the url you will scrape in this exercise\n",
    "url = 'https://github.com/trending/developers'"
   ]
  },
  {
   "cell_type": "code",
   "execution_count": 3,
   "metadata": {},
   "outputs": [
    {
     "output_type": "stream",
     "name": "stdout",
     "text": [
      "<!DOCTYPE html>\n<html lang=\"en\">\n <head>\n  <meta charset=\"utf-8\"/>\n  <link href=\"https://github.githubassets.com\" rel=\"dns-prefetch\"/>\n  <link href=\"https://avatars0.githubusercontent.com\" rel=\"dns-prefetch\"/>\n  <link href=\"https://avatars1.githubusercontent.com\" rel=\"dns-prefetch\"/>\n  <link href=\"https://avatars2.githubusercontent.com\" rel=\"dns-pr\n"
     ]
    }
   ],
   "source": [
    "data = requests.get(url)\n",
    "trend_devs = BeautifulSoup(data.text)\n",
    "print(trend_devs.prettify()[:350])"
   ]
  },
  {
   "cell_type": "markdown",
   "metadata": {},
   "source": [
    "#### Display the names of the trending developers retrieved in the previous step.\n",
    "\n",
    "Your output should be a Python list of developer names. Each name should not contain any html tag.\n",
    "\n",
    "**Instructions:**\n",
    "\n",
    "1. Find out the html tag and class names used for the developer names. You can achieve this using Chrome DevTools.\n",
    "\n",
    "1. Use BeautifulSoup to extract all the html elements that contain the developer names.\n",
    "\n",
    "1. Use string manipulation techniques to replace whitespaces and linebreaks (i.e. `\\n`) in the *text* of each html element. Use a list to store the clean names.\n",
    "\n",
    "1. Print the list of names.\n",
    "\n",
    "Your output should look like below (with different names):\n",
    "\n",
    "```\n",
    "['trimstray (@trimstray)',\n",
    " 'joewalnes (JoeWalnes)',\n",
    " 'charlax (Charles-AxelDein)',\n",
    " 'ForrestKnight (ForrestKnight)',\n",
    " 'revery-ui (revery-ui)',\n",
    " 'alibaba (Alibaba)',\n",
    " 'Microsoft (Microsoft)',\n",
    " 'github (GitHub)',\n",
    " 'facebook (Facebook)',\n",
    " 'boazsegev (Bo)',\n",
    " 'google (Google)',\n",
    " 'cloudfetch',\n",
    " 'sindresorhus (SindreSorhus)',\n",
    " 'tensorflow',\n",
    " 'apache (TheApacheSoftwareFoundation)',\n",
    " 'DevonCrawford (DevonCrawford)',\n",
    " 'ARMmbed (ArmMbed)',\n",
    " 'vuejs (vuejs)',\n",
    " 'fastai (fast.ai)',\n",
    " 'QiShaoXuan (Qi)',\n",
    " 'joelparkerhenderson (JoelParkerHenderson)',\n",
    " 'torvalds (LinusTorvalds)',\n",
    " 'CyC2018',\n",
    " 'komeiji-satori (神楽坂覚々)',\n",
    " 'script-8']\n",
    " ```"
   ]
  },
  {
   "cell_type": "code",
   "execution_count": 4,
   "metadata": {},
   "outputs": [
    {
     "output_type": "execute_result",
     "data": {
      "text/plain": [
       "[('Laurent', 'laurent22'),\n",
       " ('Danny Ryan', 'djrtwo'),\n",
       " ('Arda Tanrıkulu', 'ardatan'),\n",
       " ('Dotan Simha', 'dotansimha'),\n",
       " ('Felix Angelov', 'felangel')]"
      ]
     },
     "metadata": {},
     "execution_count": 4
    }
   ],
   "source": [
    "names = trend_devs.find_all('h1', {'class': 'h3 lh-condensed'})\n",
    "names = [name.text.strip() for name in names]\n",
    "\n",
    "alias = trend_devs.find_all('p', {'class': 'f4 text-normal mb-1'})\n",
    "alias = [al.text.strip() for al in alias]\n",
    "\n",
    "list_names = list(zip(names, alias))\n",
    "list_names[:5]"
   ]
  },
  {
   "cell_type": "markdown",
   "metadata": {},
   "source": [
    "#### Display the trending Python repositories in GitHub\n",
    "\n",
    "The steps to solve this problem is similar to the previous one except that you need to find out the repository names instead of developer names."
   ]
  },
  {
   "cell_type": "code",
   "execution_count": 5,
   "metadata": {},
   "outputs": [],
   "source": [
    "# This is the url you will scrape in this exercise\n",
    "url = 'https://github.com/trending/python?since=daily'"
   ]
  },
  {
   "cell_type": "code",
   "execution_count": 6,
   "metadata": {},
   "outputs": [
    {
     "output_type": "execute_result",
     "data": {
      "text/plain": [
       "['l1ving/youtube-dl',\n",
       " 'MobSF/Mobile-Security-Framework-MobSF',\n",
       " 'mxrch/GHunt',\n",
       " 'gto76/python-cheatsheet',\n",
       " 'jofpin/trape']"
      ]
     },
     "metadata": {},
     "execution_count": 6
    }
   ],
   "source": [
    "data = requests.get(url)\n",
    "trend_py = BeautifulSoup(data.text)\n",
    "\n",
    "repos = trend_py.find_all('h1', {'class': 'h3 lh-condensed'})\n",
    "py_repo_top = [repo.text.strip().replace('\\n', '').replace(' ', '') for repo in repos]\n",
    "py_repo_top[:5]"
   ]
  },
  {
   "cell_type": "markdown",
   "metadata": {},
   "source": [
    "#### Display all the image links from Walt Disney wikipedia page"
   ]
  },
  {
   "cell_type": "code",
   "execution_count": 7,
   "metadata": {},
   "outputs": [],
   "source": [
    "# This is the url you will scrape in this exercise\n",
    "url = 'https://en.wikipedia.org/wiki/Walt_Disney'"
   ]
  },
  {
   "cell_type": "code",
   "execution_count": 8,
   "metadata": {},
   "outputs": [
    {
     "output_type": "execute_result",
     "data": {
      "text/plain": [
       "['https://en.wikipedia.org/wiki/File:Walt_Disney_1946.JPG',\n",
       " 'https://en.wikipedia.org/wiki/File:Walt_Disney_1942_signature.svg',\n",
       " 'https://en.wikipedia.org/wiki/File:Walt_Disney_envelope_ca._1921.jpg',\n",
       " 'https://en.wikipedia.org/wiki/File:Trolley_Troubles_poster.jpg',\n",
       " 'https://en.wikipedia.org/wiki/File:Walt_Disney_and_his_cartoon_creation_%22Mickey_Mouse%22_-_National_Board_of_Review_Magazine.jpg']"
      ]
     },
     "metadata": {},
     "execution_count": 8
    }
   ],
   "source": [
    "data = requests.get(url)\n",
    "waltd_wiki = BeautifulSoup(data.text)\n",
    "\n",
    "wd_images_t = waltd_wiki.find_all('a', {'class': 'image'})\n",
    "wd_images = ['https://en.wikipedia.org'+img['href'] for img in wd_images_t]\n",
    "wd_images[:5]"
   ]
  },
  {
   "cell_type": "markdown",
   "metadata": {},
   "source": [
    "#### Retrieve all links to pages on Wikipedia that refer to some kind of Python."
   ]
  },
  {
   "cell_type": "code",
   "execution_count": 9,
   "metadata": {},
   "outputs": [],
   "source": [
    "# This is the url you will scrape in this exercise\n",
    "url ='https://en.wikipedia.org/wiki/Python' "
   ]
  },
  {
   "cell_type": "code",
   "execution_count": 10,
   "metadata": {},
   "outputs": [
    {
     "output_type": "execute_result",
     "data": {
      "text/plain": [
       "['https://en.wikipedia.org//wiki/Pythons',\n",
       " 'https://en.wikipedia.org//wiki/Python_(genus)',\n",
       " 'https://en.wikipedia.org//wiki/Python_(genus)',\n",
       " 'https://en.wikipedia.org/#Computing',\n",
       " 'https://en.wikipedia.org/#People']"
      ]
     },
     "metadata": {},
     "execution_count": 10
    }
   ],
   "source": [
    "data = requests.get(url)\n",
    "python_wiki = BeautifulSoup(data.text)\n",
    "\n",
    "python_links_t = python_wiki.find_all('ul')\n",
    "python_links = [link.find_all('a') for link in python_links_t]\n",
    "python_links_c = ['https://en.wikipedia.org/'+in_tag['href'] for tag in python_links for in_tag in tag]\n",
    "python_links_c[:5]"
   ]
  },
  {
   "cell_type": "markdown",
   "metadata": {},
   "source": [
    "#### Number of Titles that have changed in the United States Code since its last release point "
   ]
  },
  {
   "cell_type": "code",
   "execution_count": 11,
   "metadata": {},
   "outputs": [],
   "source": [
    "# This is the url you will scrape in this exercise\n",
    "url = 'http://uscode.house.gov/download/download.shtml'"
   ]
  },
  {
   "cell_type": "code",
   "execution_count": 12,
   "metadata": {},
   "outputs": [
    {
     "output_type": "execute_result",
     "data": {
      "text/plain": [
       "11"
      ]
     },
     "metadata": {},
     "execution_count": 12
    }
   ],
   "source": [
    "data = requests.get(url)\n",
    "us_code = BeautifulSoup(data.text)\n",
    "\n",
    "titles_changed = us_code.find_all('div', {'class': 'usctitlechanged'})\n",
    "titles_changed = [t.text.strip() for t in titles_changed]\n",
    "len(titles_changed)"
   ]
  },
  {
   "cell_type": "markdown",
   "metadata": {},
   "source": [
    "#### A Python list with the top ten FBI's Most Wanted names "
   ]
  },
  {
   "cell_type": "code",
   "execution_count": 13,
   "metadata": {},
   "outputs": [],
   "source": [
    "# This is the url you will scrape in this exercise\n",
    "url = 'https://www.fbi.gov/wanted/topten'"
   ]
  },
  {
   "cell_type": "code",
   "execution_count": 14,
   "metadata": {},
   "outputs": [
    {
     "output_type": "execute_result",
     "data": {
      "text/plain": [
       "['ARNOLDO JIMENEZ',\n",
       " 'JASON DEREK BROWN',\n",
       " 'ALEXIS FLORES',\n",
       " 'JOSE RODOLFO VILLARREAL-HERNANDEZ',\n",
       " 'EUGENE PALMER',\n",
       " 'RAFAEL CARO-QUINTERO',\n",
       " 'ROBERT WILLIAM FISHER',\n",
       " 'BHADRESHKUMAR CHETANBHAI PATEL',\n",
       " 'ALEJANDRO ROSALES CASTILLO',\n",
       " 'YASER ABDEL SAID']"
      ]
     },
     "metadata": {},
     "execution_count": 14
    }
   ],
   "source": [
    "data = requests.get(url)\n",
    "fbi_top = BeautifulSoup(data.text)\n",
    "\n",
    "fbi_top_n = fbi_top.find_all('h3', {'class': 'title'})\n",
    "fbi_names = [tag.text.strip() for tag in fbi_top_n]\n",
    "fbi_names"
   ]
  },
  {
   "cell_type": "markdown",
   "metadata": {},
   "source": [
    "#### List all language names and number of related articles in the order they appear in wikipedia.org"
   ]
  },
  {
   "cell_type": "code",
   "execution_count": 2,
   "metadata": {},
   "outputs": [],
   "source": [
    "# This is the url you will scrape in this exercise\n",
    "url = 'https://www.wikipedia.org/'"
   ]
  },
  {
   "cell_type": "code",
   "execution_count": 3,
   "metadata": {},
   "outputs": [],
   "source": [
    "data = requests.get(url)\n",
    "wiki_main = BeautifulSoup(data.content, 'lxml')"
   ]
  },
  {
   "cell_type": "code",
   "execution_count": 8,
   "metadata": {},
   "outputs": [
    {
     "output_type": "execute_result",
     "data": {
      "text/plain": [
       "['English ----> 6,183,000+ articles',\n",
       " 'Español ----> 1,637,000+ artículos',\n",
       " '日本語 ----> 1,235,000+ 記事',\n",
       " 'Deutsch ----> 2,495,000+ Artikel',\n",
       " 'Русский ----> 1,672,000+ статей',\n",
       " 'Français ----> 2,262,000+ articles',\n",
       " 'Italiano ----> 1,645,000+ voci',\n",
       " '中文 ----> 1,155,000+ 條目',\n",
       " 'Português ----> 1,045,000+ artigos',\n",
       " 'Polski ----> 1,435,000+ haseł']"
      ]
     },
     "metadata": {},
     "execution_count": 8
    }
   ],
   "source": [
    "lang_gross = wiki_main.find('div', {'class': 'central-featured'}).find_all('div', {'dir': 'ltr'})\n",
    "lang_list = [e.text.strip().split() for e in lang_gross]\n",
    "\n",
    "lang_list_t = np.array([[s for s in lang] for lang in lang_list]).T\n",
    "articles = [','.join(i) for i in list(zip(lang_list_t[1], lang_list_t[2], lang_list_t[3]))]\n",
    "articles_full = [' '.join(i) for i in list(zip(articles, lang_list_t[-1]))]\n",
    "\n",
    "[f\"{lang} ----> {artic}\" for lang, artic in list(zip(lang_list_t[0], articles_full))]\n",
    "## Corrección de Felipe"
   ]
  },
  {
   "cell_type": "markdown",
   "metadata": {},
   "source": [
    "#### A list with the different kind of datasets available in data.gov.uk "
   ]
  },
  {
   "cell_type": "code",
   "execution_count": 18,
   "metadata": {},
   "outputs": [],
   "source": [
    "# This is the url you will scrape in this exercise\n",
    "url = 'https://data.gov.uk/'"
   ]
  },
  {
   "cell_type": "code",
   "execution_count": 19,
   "metadata": {},
   "outputs": [],
   "source": [
    "data = requests.get(url)\n",
    "ds_kind = BeautifulSoup(data.text, 'lxml')"
   ]
  },
  {
   "cell_type": "code",
   "execution_count": 20,
   "metadata": {},
   "outputs": [
    {
     "output_type": "execute_result",
     "data": {
      "text/plain": [
       "['Business and economy',\n",
       " 'Crime and justice',\n",
       " 'Defence',\n",
       " 'Education',\n",
       " 'Environment',\n",
       " 'Government',\n",
       " 'Government spending',\n",
       " 'Health',\n",
       " 'Mapping',\n",
       " 'Society',\n",
       " 'Towns and cities',\n",
       " 'Transport']"
      ]
     },
     "metadata": {},
     "execution_count": 20
    }
   ],
   "source": [
    "ds_just_kind = ds_kind.find('ul', {'class': 'govuk-list dgu-topics__list'}).find_all('a', {'class': 'govuk-link'})\n",
    "df_kinds_list = [e.text for e in ds_just_kind]\n",
    "df_kinds_list"
   ]
  },
  {
   "cell_type": "markdown",
   "metadata": {},
   "source": [
    "#### Top 10 languages by number of native speakers stored in a Pandas Dataframe"
   ]
  },
  {
   "cell_type": "code",
   "execution_count": 21,
   "metadata": {},
   "outputs": [],
   "source": [
    "# This is the url you will scrape in this exercise\n",
    "url = 'https://en.wikipedia.org/wiki/List_of_languages_by_number_of_native_speakers'"
   ]
  },
  {
   "cell_type": "code",
   "execution_count": 22,
   "metadata": {},
   "outputs": [],
   "source": [
    "data = requests.get(url)\n",
    "wiki_langs = BeautifulSoup(data.text)"
   ]
  },
  {
   "cell_type": "code",
   "execution_count": 23,
   "metadata": {
    "tags": []
   },
   "outputs": [
    {
     "output_type": "execute_result",
     "data": {
      "text/plain": [
       "  rank                            language speakers_m %_world_pop.  \\\n",
       "0    1                    Mandarin Chinese        918       11.922   \n",
       "1    2                             Spanish        480        5.994   \n",
       "2    3                             English        379        4.922   \n",
       "3    4  Hindi (Sanskritised Hindustani)[9]        341        4.429   \n",
       "4    5                             Bengali        228        2.961   \n",
       "\n",
       "          family      branch  \n",
       "0   Sino-Tibetan     Sinitic  \n",
       "1  Indo-European     Romance  \n",
       "2  Indo-European    Germanic  \n",
       "3  Indo-European  Indo-Aryan  \n",
       "4  Indo-European  Indo-Aryan  "
      ],
      "text/html": "<div>\n<style scoped>\n    .dataframe tbody tr th:only-of-type {\n        vertical-align: middle;\n    }\n\n    .dataframe tbody tr th {\n        vertical-align: top;\n    }\n\n    .dataframe thead th {\n        text-align: right;\n    }\n</style>\n<table border=\"1\" class=\"dataframe\">\n  <thead>\n    <tr style=\"text-align: right;\">\n      <th></th>\n      <th>rank</th>\n      <th>language</th>\n      <th>speakers_m</th>\n      <th>%_world_pop.</th>\n      <th>family</th>\n      <th>branch</th>\n    </tr>\n  </thead>\n  <tbody>\n    <tr>\n      <th>0</th>\n      <td>1</td>\n      <td>Mandarin Chinese</td>\n      <td>918</td>\n      <td>11.922</td>\n      <td>Sino-Tibetan</td>\n      <td>Sinitic</td>\n    </tr>\n    <tr>\n      <th>1</th>\n      <td>2</td>\n      <td>Spanish</td>\n      <td>480</td>\n      <td>5.994</td>\n      <td>Indo-European</td>\n      <td>Romance</td>\n    </tr>\n    <tr>\n      <th>2</th>\n      <td>3</td>\n      <td>English</td>\n      <td>379</td>\n      <td>4.922</td>\n      <td>Indo-European</td>\n      <td>Germanic</td>\n    </tr>\n    <tr>\n      <th>3</th>\n      <td>4</td>\n      <td>Hindi (Sanskritised Hindustani)[9]</td>\n      <td>341</td>\n      <td>4.429</td>\n      <td>Indo-European</td>\n      <td>Indo-Aryan</td>\n    </tr>\n    <tr>\n      <th>4</th>\n      <td>5</td>\n      <td>Bengali</td>\n      <td>228</td>\n      <td>2.961</td>\n      <td>Indo-European</td>\n      <td>Indo-Aryan</td>\n    </tr>\n  </tbody>\n</table>\n</div>"
     },
     "metadata": {},
     "execution_count": 23
    }
   ],
   "source": [
    "top_10_gross = wiki_langs.find('table', {'class': 'wikitable'}).find('tbody').find_all('tr')[1:11]\n",
    "\n",
    "top_10_list = [[e_2.text.strip() for e_2 in e.find_all('td')] for e in top_10_gross]\n",
    "\n",
    "top_lang_df = pd.DataFrame(top_10_list, columns=['rank', 'language', 'speakers_m', '%_world_pop.', 'family', 'branch'])\n",
    "top_lang_df.head(5)"
   ]
  },
  {
   "cell_type": "markdown",
   "metadata": {},
   "source": [
    "### Stepping up the game"
   ]
  },
  {
   "cell_type": "markdown",
   "metadata": {},
   "source": [
    "####  20 latest earthquakes info (date, time, latitude, longitude and region name) by the EMSC as a pandas dataframe"
   ]
  },
  {
   "cell_type": "code",
   "execution_count": 9,
   "metadata": {},
   "outputs": [],
   "source": [
    "# This is the url you will scrape in this exercise\n",
    "url = 'https://www.emsc-csem.org/Earthquake/'"
   ]
  },
  {
   "cell_type": "code",
   "execution_count": 10,
   "metadata": {},
   "outputs": [],
   "source": [
    "data = requests.get(url)\n",
    "earthq = BeautifulSoup(data.text)"
   ]
  },
  {
   "cell_type": "code",
   "execution_count": 11,
   "metadata": {},
   "outputs": [
    {
     "output_type": "execute_result",
     "data": {
      "text/plain": [
       "         date   time      lat      long                     region\n",
       "0  2020-11-06  08:12  18.76 N   68.11 W  DOMINICAN REPUBLIC REGION\n",
       "1  2020-11-06  07:56  39.79 N  123.18 W        NORTHERN CALIFORNIA\n",
       "2  2020-11-06  08:01  40.16 N   71.67 E                 KYRGYZSTAN\n",
       "3  2020-11-06  07:57  22.97 S   67.30 W         ANTOFAGASTA, CHILE\n",
       "4  2020-11-06  07:45  27.87 S   71.24 W    OFFSHORE ATACAMA, CHILE"
      ],
      "text/html": "<div>\n<style scoped>\n    .dataframe tbody tr th:only-of-type {\n        vertical-align: middle;\n    }\n\n    .dataframe tbody tr th {\n        vertical-align: top;\n    }\n\n    .dataframe thead th {\n        text-align: right;\n    }\n</style>\n<table border=\"1\" class=\"dataframe\">\n  <thead>\n    <tr style=\"text-align: right;\">\n      <th></th>\n      <th>date</th>\n      <th>time</th>\n      <th>lat</th>\n      <th>long</th>\n      <th>region</th>\n    </tr>\n  </thead>\n  <tbody>\n    <tr>\n      <th>0</th>\n      <td>2020-11-06</td>\n      <td>08:12</td>\n      <td>18.76 N</td>\n      <td>68.11 W</td>\n      <td>DOMINICAN REPUBLIC REGION</td>\n    </tr>\n    <tr>\n      <th>1</th>\n      <td>2020-11-06</td>\n      <td>07:56</td>\n      <td>39.79 N</td>\n      <td>123.18 W</td>\n      <td>NORTHERN CALIFORNIA</td>\n    </tr>\n    <tr>\n      <th>2</th>\n      <td>2020-11-06</td>\n      <td>08:01</td>\n      <td>40.16 N</td>\n      <td>71.67 E</td>\n      <td>KYRGYZSTAN</td>\n    </tr>\n    <tr>\n      <th>3</th>\n      <td>2020-11-06</td>\n      <td>07:57</td>\n      <td>22.97 S</td>\n      <td>67.30 W</td>\n      <td>ANTOFAGASTA, CHILE</td>\n    </tr>\n    <tr>\n      <th>4</th>\n      <td>2020-11-06</td>\n      <td>07:45</td>\n      <td>27.87 S</td>\n      <td>71.24 W</td>\n      <td>OFFSHORE ATACAMA, CHILE</td>\n    </tr>\n  </tbody>\n</table>\n</div>"
     },
     "metadata": {},
     "execution_count": 11
    }
   ],
   "source": [
    "last_eq = earthq.find('tbody', {'id': 'tbody'}).find_all('tr')[:21]\n",
    "last_eq_l = [[e_2.text.strip() for e_2 in e.find_all('td')][4:] for e in last_eq]\n",
    "last_eq_t = np.array(last_eq_l).T\n",
    "\n",
    "earthquakes = {'date': [e.split()[0] for e in last_eq_t[-1]], \n",
    "               'time': [e.split()[1] for e in last_eq_t[-1]], \n",
    "               'lat': [dg+' '+card for dg, card in list(zip(last_eq_t[0], last_eq_t[1]))], \n",
    "               'long': [dg+' '+card for dg, card in list(zip(last_eq_t[2], last_eq_t[3]))], \n",
    "               'region': last_eq_t[7]}\n",
    "\n",
    "earthquakes_df = pd.DataFrame.from_dict(earthquakes)\n",
    "earthquakes_df.head(5)"
   ]
  },
  {
   "cell_type": "markdown",
   "metadata": {},
   "source": [
    "#### IMDB's Top 250 data (movie name, Initial release, director name and stars) as a pandas dataframe"
   ]
  },
  {
   "cell_type": "code",
   "execution_count": 27,
   "metadata": {},
   "outputs": [],
   "source": [
    "# This is the url you will scrape in this exercise \n",
    "url = 'https://www.imdb.com/chart/top'"
   ]
  },
  {
   "cell_type": "code",
   "execution_count": 28,
   "metadata": {},
   "outputs": [],
   "source": [
    "data = requests.get(url)\n",
    "imdb_top = BeautifulSoup(data.text)"
   ]
  },
  {
   "cell_type": "code",
   "execution_count": 101,
   "metadata": {},
   "outputs": [],
   "source": [
    "imdb_top_title = imdb_top.find('tbody', {'class': 'lister-list'}).find_all('td', {'class': 'titleColumn'})\n",
    "imdb_top_year = imdb_top.find('tbody', {'class': 'lister-list'}).find_all('span', {'class': 'secondaryInfo'})\n",
    "imdb_top_rat = imdb_top.find('tbody', {'class': 'lister-list'}).find_all('td', {'class': 'ratingColumn imdbRating'})"
   ]
  },
  {
   "cell_type": "code",
   "execution_count": 143,
   "metadata": {},
   "outputs": [],
   "source": [
    "imdb_top_dict = {'title': [e.text.strip().split('\\n')[1].strip() for e in imdb_top_title],\n",
    "                 'year': [int(e.text.replace('(', '').replace(')', '')) for e in imdb_top_year],\n",
    "                 'director': [e.find('a')['title'].split(',')[0].replace(' (dir.)', '') for e in imdb_top_title],\n",
    "                 'rating': [float(e.text.strip()) for e in imdb_top_rat]}"
   ]
  },
  {
   "cell_type": "code",
   "execution_count": 144,
   "metadata": {},
   "outputs": [
    {
     "output_type": "execute_result",
     "data": {
      "text/plain": [
       "                   title  year              director  rating\n",
       "0        Cadena perpetua  1994        Frank Darabont     9.2\n",
       "1             El padrino  1972  Francis Ford Coppola     9.1\n",
       "2   El padrino: Parte II  1974  Francis Ford Coppola     9.0\n",
       "3    El caballero oscuro  2008     Christopher Nolan     9.0\n",
       "4  12 hombres sin piedad  1957          Sidney Lumet     8.9"
      ],
      "text/html": "<div>\n<style scoped>\n    .dataframe tbody tr th:only-of-type {\n        vertical-align: middle;\n    }\n\n    .dataframe tbody tr th {\n        vertical-align: top;\n    }\n\n    .dataframe thead th {\n        text-align: right;\n    }\n</style>\n<table border=\"1\" class=\"dataframe\">\n  <thead>\n    <tr style=\"text-align: right;\">\n      <th></th>\n      <th>title</th>\n      <th>year</th>\n      <th>director</th>\n      <th>rating</th>\n    </tr>\n  </thead>\n  <tbody>\n    <tr>\n      <th>0</th>\n      <td>Cadena perpetua</td>\n      <td>1994</td>\n      <td>Frank Darabont</td>\n      <td>9.2</td>\n    </tr>\n    <tr>\n      <th>1</th>\n      <td>El padrino</td>\n      <td>1972</td>\n      <td>Francis Ford Coppola</td>\n      <td>9.1</td>\n    </tr>\n    <tr>\n      <th>2</th>\n      <td>El padrino: Parte II</td>\n      <td>1974</td>\n      <td>Francis Ford Coppola</td>\n      <td>9.0</td>\n    </tr>\n    <tr>\n      <th>3</th>\n      <td>El caballero oscuro</td>\n      <td>2008</td>\n      <td>Christopher Nolan</td>\n      <td>9.0</td>\n    </tr>\n    <tr>\n      <th>4</th>\n      <td>12 hombres sin piedad</td>\n      <td>1957</td>\n      <td>Sidney Lumet</td>\n      <td>8.9</td>\n    </tr>\n  </tbody>\n</table>\n</div>"
     },
     "metadata": {},
     "execution_count": 144
    }
   ],
   "source": [
    "imdb_top_df = pd.DataFrame.from_dict(imdb_top_dict)\n",
    "imdb_top_df.head(5)"
   ]
  },
  {
   "cell_type": "markdown",
   "metadata": {},
   "source": [
    "#### Movie name, year and a brief summary of the top 10 random movies (IMDB) as a pandas dataframe."
   ]
  },
  {
   "cell_type": "code",
   "execution_count": 189,
   "metadata": {},
   "outputs": [],
   "source": [
    "#This is the url you will scrape in this exercise\n",
    "url = 'http://www.imdb.com/chart/top'\n",
    "data = requests.get(url)\n",
    "imdb_top = BeautifulSoup(data.text)"
   ]
  },
  {
   "cell_type": "code",
   "execution_count": 195,
   "metadata": {},
   "outputs": [],
   "source": [
    "def get_top_links(tags):\n",
    "    top_tags = tags[:10]\n",
    "    return [[e.text.strip().split('\\n')[1].strip(),\n",
    "             int(e.text.strip().split('\\n')[2].replace('(', '').replace(')', '')),\n",
    "            'https://www.imdb.com/'+e.find('a')['href']] for e in top_tags]"
   ]
  },
  {
   "cell_type": "code",
   "execution_count": 196,
   "metadata": {},
   "outputs": [],
   "source": [
    "imdb_top_title = imdb_top.find('tbody', {'class': 'lister-list'}).find_all('td', {'class': 'titleColumn'})\n",
    "tops_link = get_top_links(imdb_top_title)"
   ]
  },
  {
   "cell_type": "code",
   "execution_count": 197,
   "metadata": {},
   "outputs": [],
   "source": [
    "def get_summary(movie_link):\n",
    "    data = requests.get(movie_link)\n",
    "    movie_imdb = BeautifulSoup(data.text)\n",
    "    return movie_imdb.find('div', {'class': 'summary_text'}).text.strip()"
   ]
  },
  {
   "cell_type": "code",
   "execution_count": 198,
   "metadata": {},
   "outputs": [],
   "source": [
    "tops_summ = [[e[0], e[1], get_summary(e[2])] for e in tops_link]"
   ]
  },
  {
   "cell_type": "code",
   "execution_count": 199,
   "metadata": {},
   "outputs": [
    {
     "output_type": "execute_result",
     "data": {
      "text/plain": [
       "                   title  year  \\\n",
       "0        Cadena perpetua  1994   \n",
       "1             El padrino  1972   \n",
       "2   El padrino: Parte II  1974   \n",
       "3    El caballero oscuro  2008   \n",
       "4  12 hombres sin piedad  1957   \n",
       "\n",
       "                                             summary  \n",
       "0  Two imprisoned men bond over a number of years...  \n",
       "1  The aging patriarch of an organized crime dyna...  \n",
       "2  The early life and career of Vito Corleone in ...  \n",
       "3  When the menace known as the Joker wreaks havo...  \n",
       "4  A jury holdout attempts to prevent a miscarria...  "
      ],
      "text/html": "<div>\n<style scoped>\n    .dataframe tbody tr th:only-of-type {\n        vertical-align: middle;\n    }\n\n    .dataframe tbody tr th {\n        vertical-align: top;\n    }\n\n    .dataframe thead th {\n        text-align: right;\n    }\n</style>\n<table border=\"1\" class=\"dataframe\">\n  <thead>\n    <tr style=\"text-align: right;\">\n      <th></th>\n      <th>title</th>\n      <th>year</th>\n      <th>summary</th>\n    </tr>\n  </thead>\n  <tbody>\n    <tr>\n      <th>0</th>\n      <td>Cadena perpetua</td>\n      <td>1994</td>\n      <td>Two imprisoned men bond over a number of years...</td>\n    </tr>\n    <tr>\n      <th>1</th>\n      <td>El padrino</td>\n      <td>1972</td>\n      <td>The aging patriarch of an organized crime dyna...</td>\n    </tr>\n    <tr>\n      <th>2</th>\n      <td>El padrino: Parte II</td>\n      <td>1974</td>\n      <td>The early life and career of Vito Corleone in ...</td>\n    </tr>\n    <tr>\n      <th>3</th>\n      <td>El caballero oscuro</td>\n      <td>2008</td>\n      <td>When the menace known as the Joker wreaks havo...</td>\n    </tr>\n    <tr>\n      <th>4</th>\n      <td>12 hombres sin piedad</td>\n      <td>1957</td>\n      <td>A jury holdout attempts to prevent a miscarria...</td>\n    </tr>\n  </tbody>\n</table>\n</div>"
     },
     "metadata": {},
     "execution_count": 199
    }
   ],
   "source": [
    "top_summary_df = pd.DataFrame(tops_summ, columns=['title', 'year', 'summary'])\n",
    "top_summary_df.head(5)"
   ]
  },
  {
   "cell_type": "markdown",
   "metadata": {},
   "source": [
    "#### Find the live weather report (temperature, wind speed, description and weather) of a given city."
   ]
  },
  {
   "cell_type": "code",
   "execution_count": 30,
   "metadata": {},
   "outputs": [],
   "source": [
    "#https://openweathermap.org/current"
   ]
  },
  {
   "cell_type": "code",
   "execution_count": 31,
   "metadata": {},
   "outputs": [],
   "source": [
    "def weather(city):\n",
    "    pass"
   ]
  },
  {
   "cell_type": "markdown",
   "metadata": {},
   "source": [
    "#### Book name,price and stock availability as a pandas dataframe."
   ]
  },
  {
   "cell_type": "code",
   "execution_count": 32,
   "metadata": {},
   "outputs": [],
   "source": [
    "# This is the url you will scrape in this exercise. \n",
    "# It is a fictional bookstore created to be scraped. \n",
    "url = 'http://books.toscrape.com/'"
   ]
  },
  {
   "cell_type": "code",
   "execution_count": 222,
   "metadata": {},
   "outputs": [],
   "source": [
    "books_df = pd.DataFrame(columns=['book', 'price', 'availability'])"
   ]
  },
  {
   "cell_type": "code",
   "execution_count": 333,
   "metadata": {},
   "outputs": [],
   "source": [
    "def book_stock(page):\n",
    "    books = BeautifulSoup(requests.get(f'http://books.toscrape.com/catalogue/page-{page}.html').text)\n",
    "    titles = [book.find('h3').find('a')['title'] for book in books.find('ol', {'class': 'row'}).find_all('li')]\n",
    "    available = [book.find('p', {'class': 'instock'}).text.strip() for book in books.find('ol', {'class': 'row'}).find_all('li')]\n",
    "    prices = np.array([float(re.sub(\"[^0-9.]\", \"\", price.text)) for price in books.find('ol', {'class': 'row'}).find_all('p', {'class': 'price_color'})])\n",
    "    return pd.DataFrame(np.array([titles, prices, available]).T, columns=['book', 'price', 'availability'])"
   ]
  },
  {
   "cell_type": "code",
   "execution_count": 337,
   "metadata": {},
   "outputs": [],
   "source": [
    "for page in range(1,51):\n",
    "    books_df = books_df.append(book_stock(page), ignore_index=True)"
   ]
  },
  {
   "cell_type": "code",
   "execution_count": 338,
   "metadata": {},
   "outputs": [
    {
     "output_type": "execute_result",
     "data": {
      "text/plain": [
       "                                                   book  price availability\n",
       "0                                  A Light in the Attic  51.77     In stock\n",
       "1                                    Tipping the Velvet  53.74     In stock\n",
       "2                                            Soumission   50.1     In stock\n",
       "3                                         Sharp Objects  47.82     In stock\n",
       "4                 Sapiens: A Brief History of Humankind  54.23     In stock\n",
       "...                                                 ...    ...          ...\n",
       "1015  Alice in Wonderland (Alice's Adventures in Won...  55.53     In stock\n",
       "1016   Ajin: Demi-Human, Volume 1 (Ajin: Demi-Human #1)  57.06     In stock\n",
       "1017  A Spy's Devotion (The Regency Spies of London #1)  16.97     In stock\n",
       "1018                1st to Die (Women's Murder Club #1)  53.98     In stock\n",
       "1019                 1,000 Places to See Before You Die  26.08     In stock\n",
       "\n",
       "[1020 rows x 3 columns]"
      ],
      "text/html": "<div>\n<style scoped>\n    .dataframe tbody tr th:only-of-type {\n        vertical-align: middle;\n    }\n\n    .dataframe tbody tr th {\n        vertical-align: top;\n    }\n\n    .dataframe thead th {\n        text-align: right;\n    }\n</style>\n<table border=\"1\" class=\"dataframe\">\n  <thead>\n    <tr style=\"text-align: right;\">\n      <th></th>\n      <th>book</th>\n      <th>price</th>\n      <th>availability</th>\n    </tr>\n  </thead>\n  <tbody>\n    <tr>\n      <th>0</th>\n      <td>A Light in the Attic</td>\n      <td>51.77</td>\n      <td>In stock</td>\n    </tr>\n    <tr>\n      <th>1</th>\n      <td>Tipping the Velvet</td>\n      <td>53.74</td>\n      <td>In stock</td>\n    </tr>\n    <tr>\n      <th>2</th>\n      <td>Soumission</td>\n      <td>50.1</td>\n      <td>In stock</td>\n    </tr>\n    <tr>\n      <th>3</th>\n      <td>Sharp Objects</td>\n      <td>47.82</td>\n      <td>In stock</td>\n    </tr>\n    <tr>\n      <th>4</th>\n      <td>Sapiens: A Brief History of Humankind</td>\n      <td>54.23</td>\n      <td>In stock</td>\n    </tr>\n    <tr>\n      <th>...</th>\n      <td>...</td>\n      <td>...</td>\n      <td>...</td>\n    </tr>\n    <tr>\n      <th>1015</th>\n      <td>Alice in Wonderland (Alice's Adventures in Won...</td>\n      <td>55.53</td>\n      <td>In stock</td>\n    </tr>\n    <tr>\n      <th>1016</th>\n      <td>Ajin: Demi-Human, Volume 1 (Ajin: Demi-Human #1)</td>\n      <td>57.06</td>\n      <td>In stock</td>\n    </tr>\n    <tr>\n      <th>1017</th>\n      <td>A Spy's Devotion (The Regency Spies of London #1)</td>\n      <td>16.97</td>\n      <td>In stock</td>\n    </tr>\n    <tr>\n      <th>1018</th>\n      <td>1st to Die (Women's Murder Club #1)</td>\n      <td>53.98</td>\n      <td>In stock</td>\n    </tr>\n    <tr>\n      <th>1019</th>\n      <td>1,000 Places to See Before You Die</td>\n      <td>26.08</td>\n      <td>In stock</td>\n    </tr>\n  </tbody>\n</table>\n<p>1020 rows × 3 columns</p>\n</div>"
     },
     "metadata": {},
     "execution_count": 338
    }
   ],
   "source": [
    "books_df"
   ]
  }
 ],
 "metadata": {
  "kernelspec": {
   "name": "Python 3.8.5 64-bit",
   "display_name": "Python 3.8.5 64-bit",
   "metadata": {
    "interpreter": {
     "hash": "082e9a3bcad0a290d0001e938aa60b99250c6c2ef33a923c00b70f9826caf4b7"
    }
   }
  },
  "language_info": {
   "codemirror_mode": {
    "name": "ipython",
    "version": 3
   },
   "file_extension": ".py",
   "mimetype": "text/x-python",
   "name": "python",
   "nbconvert_exporter": "python",
   "pygments_lexer": "ipython3",
   "version": "3.8.5-final"
  }
 },
 "nbformat": 4,
 "nbformat_minor": 2
}