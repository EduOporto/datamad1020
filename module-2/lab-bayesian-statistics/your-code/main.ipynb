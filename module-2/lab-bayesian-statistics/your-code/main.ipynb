{
 "cells": [
  {
   "cell_type": "markdown",
   "metadata": {},
   "source": [
    "# Intro to Bayesian Statistics Lab\n",
    "\n",
    "Complete the following set of exercises to solidify your knowledge of Bayesian statistics and Bayesian data analysis."
   ]
  },
  {
   "cell_type": "code",
   "execution_count": 32,
   "metadata": {},
   "outputs": [],
   "source": [
    "import pandas as pd\n",
    "import numpy as np\n",
    "import matplotlib.pyplot as plt\n",
    "from random import choice"
   ]
  },
  {
   "cell_type": "markdown",
   "metadata": {},
   "source": [
    "## 1. Cookie Problem\n",
    "\n",
    "Suppose we have two bowls of cookies. Bowl 1 contains 30 vanilla cookies and 10 chocolate cookies. Bowl 2 contains 20 of each. You randomly pick one cookie out of one of the bowls, and it is vanilla. Use Bayes Theorem to calculate the probability that the vanilla cookie you picked came from Bowl 1?"
   ]
  },
  {
   "cell_type": "code",
   "execution_count": 24,
   "metadata": {},
   "outputs": [
    {
     "name": "stdout",
     "output_type": "stream",
     "text": [
      "The probabilities of a cookie coming from Bowl 1 given that it is a vanilla one are 0.6\n"
     ]
    }
   ],
   "source": [
    "p_a = 1/2 # P the cookie comes from bowl 1\n",
    "p_b = 5/8 # P the cookie is a vanilla one\n",
    "p_b_a = 3/4 # P cookie is vanilla given that it comes from bowl 1\n",
    "\n",
    "p_a_b = (p_b_a * p_a)/p_b\n",
    "\n",
    "print(f\"The probabilities of a cookie coming from Bowl 1 given that it is a vanilla one are {round(p_a_b, 2)}\")"
   ]
  },
  {
   "cell_type": "markdown",
   "metadata": {},
   "source": [
    "What is the probability that it came from Bowl 2?"
   ]
  },
  {
   "cell_type": "code",
   "execution_count": 25,
   "metadata": {},
   "outputs": [
    {
     "name": "stdout",
     "output_type": "stream",
     "text": [
      "The probabilities of a cookie coming from Bowl 2 given that it is a vanilla one are 0.4\n"
     ]
    }
   ],
   "source": [
    "p_a = 1/2 # P the cookie comes from bowl 2\n",
    "p_b = 5/8 # P the cookie is a vanilla one\n",
    "p_b_a = 2/4 # P cookie is vanilla given that it comes from bowl 2\n",
    "\n",
    "p_a_b = (p_b_a * p_a)/p_b\n",
    "\n",
    "print(f\"The probabilities of a cookie coming from Bowl 2 given that it is a vanilla one are {round(p_a_b, 2)}\")"
   ]
  },
  {
   "cell_type": "markdown",
   "metadata": {},
   "source": [
    "What if the cookie you had picked was chocolate? What are the probabilities that the chocolate cookie came from Bowl 1 and Bowl 2 respectively?"
   ]
  },
  {
   "cell_type": "code",
   "execution_count": 8,
   "metadata": {},
   "outputs": [
    {
     "name": "stdout",
     "output_type": "stream",
     "text": [
      "The probabilities of a cookie coming from Bowl 1 given that it is a chocolate one are 0.33\n",
      "\n",
      "\n",
      "The probabilities of a cookie coming from Bowl 2 given that it is a chocolate one are 0.67\n"
     ]
    }
   ],
   "source": [
    "p_a1 = 1/2 # P the cookie comes from bowl 1\n",
    "p_a2 = 1/2 # P the cookie comes from bowl 2\n",
    "p_c = 3/8 # P the cookie is a chocolate one\n",
    "p_c_a1 = 1/4 # P cookie is chocolate given that it comes from bowl 1\n",
    "p_c_a2 = 2/4 # P cookie is chocolate given that it comes from bowl 2\n",
    "\n",
    "p_a1_c = (p_c_a1 * p_a1)/p_c\n",
    "p_a2_c = (p_c_a2 * p_a2)/p_c\n",
    "\n",
    "print(f\"The probabilities of a cookie coming from Bowl 1 given that it is a chocolate one are {round(p_a1_c, 2)}\")\n",
    "print('\\n')\n",
    "print(f\"The probabilities of a cookie coming from Bowl 2 given that it is a chocolate one are {round(p_a2_c, 2)}\")"
   ]
  },
  {
   "cell_type": "markdown",
   "metadata": {},
   "source": [
    "## 2. Candy Problem\n",
    "\n",
    "Suppose you have two bags of candies:\n",
    "\n",
    "- In Bag 1, the mix of colors is:\n",
    "    - Brown - 30%\n",
    "    - Yellow - 20%\n",
    "    - Red - 20%\n",
    "    - Green - 10%\n",
    "    - Orange - 10%\n",
    "    - Tan - 10%\n",
    "    \n",
    "- In Bag 2, the mix of colors is:\n",
    "    - Blue - 24%\n",
    "    - Green - 20%\n",
    "    - Orange - 16%\n",
    "    - Yellow - 14%\n",
    "    - Red - 13%\n",
    "    - Brown - 13%\n",
    "    \n",
    "Not knowing which bag is which, you randomly draw one candy from each bag. One is yellow and one is green. What is the probability that the yellow one came from the Bag 1?\n",
    "\n",
    "*Hint: For the likelihoods, you will need to multiply the probabilities of drawing yellow from one bag and green from the other bag and vice versa.*"
   ]
  },
  {
   "cell_type": "code",
   "execution_count": 70,
   "metadata": {},
   "outputs": [
    {
     "name": "stdout",
     "output_type": "stream",
     "text": [
      "The probability that the yellow candy was drawn from Bag 1 is 0.74\n"
     ]
    }
   ],
   "source": [
    "p_y_b1 = 0.2 # P draw yellow candy from Bag 1\n",
    "p_g_b2 = 0.2 # P draw green candy from Bag 2\n",
    "\n",
    "p_g_b1 = 0.1 # P draw green candy from Bag 1\n",
    "p_y_b2 = 0.14 # P draw yellow candy from Bag 2\n",
    "\n",
    "possibles = ((p_y_b1 * p_g_b2) + (p_g_b1 * p_y_b2)) * 1/2 \n",
    "\n",
    "p_b1_gy = (p_y_b1 * p_g_b2 * 1/2) / possibles\n",
    "\n",
    "print(f\"The probability that the yellow candy was drawn from Bag 1 is {round(p_b1_gy, 2)}\") "
   ]
  },
  {
   "cell_type": "markdown",
   "metadata": {},
   "source": [
    "What is the probability that the yellow candy came from Bag 2?"
   ]
  },
  {
   "cell_type": "code",
   "execution_count": 68,
   "metadata": {},
   "outputs": [
    {
     "name": "stdout",
     "output_type": "stream",
     "text": [
      "The probability that the yellow candy was drawn from Bag 2 is 0.26\n"
     ]
    }
   ],
   "source": [
    "p_b2_gy = (p_g_b1 * p_y_b2 * 1/2) / possibles \n",
    "\n",
    "print(f\"The probability that the yellow candy was drawn from Bag 2 is {round(p_b2_gy, 2)}\") "
   ]
  },
  {
   "cell_type": "markdown",
   "metadata": {},
   "source": [
    "What are the probabilities that the green one came from Bag 1 and Bag 2 respectively?"
   ]
  },
  {
   "cell_type": "code",
   "execution_count": 66,
   "metadata": {},
   "outputs": [
    {
     "name": "stdout",
     "output_type": "stream",
     "text": [
      "The probability that the green candy was drawn from Bag 1 is 0.26, whilst the probability that it was drawn from Bag 2 is 0.74\n"
     ]
    }
   ],
   "source": [
    "print(f\"The probability that the green candy was drawn from Bag 1 is {round(p_b2_gy, 2)}, whilst the probability that it was drawn from Bag 2 is {round(p_b1_gy, 2)}\") "
   ]
  },
  {
   "cell_type": "markdown",
   "metadata": {},
   "source": [
    "## 3. Monty Hall Problem\n",
    "\n",
    "Suppose you are a contestant on the popular game show *Let's Make a Deal*. The host of the show (Monty Hall) presents you with three doors - Door A, Door B, and Door C. He tells you that there is a sports car behind one of them and if you choose the correct one, you win the car!\n",
    "\n",
    "You select Door A, but then Monty makes things a little more interesting. He opens Door B to reveal that there is no sports car behind it and asks you if you would like to stick with your choice of Door A or switch your choice to Door C. Given this new information, what are the probabilities of you winning the car if you stick with Door A versus if you switch to Door C?"
   ]
  },
  {
   "cell_type": "code",
   "execution_count": 15,
   "metadata": {},
   "outputs": [
    {
     "name": "stdout",
     "output_type": "stream",
     "text": [
      "The probability of winning the car sticking with Door A is 0.33\n",
      "\n",
      "\n",
      "The probability of winning the car switching to Door C is 0.67\n"
     ]
    }
   ],
   "source": [
    "# P(A|B) -> Probability that the car is behind door A given that Monty opens door B\n",
    "p_a = 1/3 # P the car is behind A\n",
    "p_b = 1/2 # P Monty opens door B\n",
    "p_b_a = 1/2 # P Monty opens door B given the car is behind A\n",
    "\n",
    "p_a_b = (p_b_a*p_a)/p_b # P(A|B) = (P(B|A)*P(A))/P(B)\n",
    "print(f\"The probability of winning the car sticking with Door A is {round(p_a_b, 2)}\")\n",
    "print('\\n')\n",
    "\n",
    "# P(C|B) -> Probability that the car is behind door C given that Monty opens door B\n",
    "p_c = 1/3 # P the car is behind C\n",
    "p_b = 1/2 # P Monty opens door B\n",
    "p_b_c = 1 # P Monty opens door B given the car is behind C\n",
    "\n",
    "p_c_b = (p_b_c*p_c)/p_b # P(C|B) = (P(B|C)*P(C))/P(B)\n",
    "print(f\"The probability of winning the car switching to Door C is {round(p_c_b, 2)}\")\n"
   ]
  },
  {
   "cell_type": "markdown",
   "metadata": {},
   "source": [
    "## 4. Bayesian Analysis \n",
    "\n",
    "Suppose you work for a landscaping company, and they want to advertise their service online. They create an ad and sit back waiting for the money to roll in. On the first day, the ad sends 100 visitors to the site and 14 of them sign up for landscaping services. Create a generative model to come up with the posterior distribution and produce a visualization of what the posterior distribution would look like given the observed data."
   ]
  },
  {
   "cell_type": "code",
   "execution_count": 41,
   "metadata": {},
   "outputs": [],
   "source": [
    "ad_accept = ['S' for _ in range(14)] + ['NS' for _ in range(86)]\n",
    "\n",
    "res = {}\n",
    "for n in [200,400,800,1600,3200,6400]:\n",
    "    for _ in range(n):\n",
    "        c = choice(ad_accept)\n",
    "        res[n] = res.get(n,[]) + [c]"
   ]
  },
  {
   "cell_type": "code",
   "execution_count": 55,
   "metadata": {},
   "outputs": [
    {
     "data": {
      "image/png": "[encoded data removed]",
      "text/plain": [
       "<Figure size 1080x288 with 6 Axes>"
      ]
     },
     "metadata": {
      "needs_background": "light"
     },
     "output_type": "display_data"
    }
   ],
   "source": [
    "plt.figure(figsize=(15,4))\n",
    "for i,n in enumerate(res.keys()):\n",
    "    ax = plt.subplot(1,len(res.keys()),i+1)\n",
    "    ax.hist(res[n])\n",
    "    ax.set_title(f\"# of visitors: {n}\")"
   ]
  },
  {
   "cell_type": "markdown",
   "metadata": {},
   "source": [
    "Produce a set of descriptive statistics for the posterior distribution."
   ]
  },
  {
   "cell_type": "code",
   "execution_count": null,
   "metadata": {},
   "outputs": [],
   "source": []
  },
  {
   "cell_type": "markdown",
   "metadata": {},
   "source": [
    "What is the 90% credible interval range?"
   ]
  },
  {
   "cell_type": "code",
   "execution_count": null,
   "metadata": {},
   "outputs": [],
   "source": []
  },
  {
   "cell_type": "markdown",
   "metadata": {},
   "source": [
    "What is the Maximum Likelihood Estimate?"
   ]
  },
  {
   "cell_type": "code",
   "execution_count": null,
   "metadata": {},
   "outputs": [],
   "source": []
  }
 ],
 "metadata": {
  "kernelspec": {
   "display_name": "Python 3",
   "language": "python",
   "name": "python3"
  },
  "language_info": {
   "codemirror_mode": {
    "name": "ipython",
    "version": 3
   },
   "file_extension": ".py",
   "mimetype": "text/x-python",
   "name": "python",
   "nbconvert_exporter": "python",
   "pygments_lexer": "ipython3",
   "version": "3.8.5"
  }
 },
 "nbformat": 4,
 "nbformat_minor": 2
}
